{
 "cells": [
  {
   "cell_type": "markdown",
   "metadata": {
    "deletable": false,
    "editable": false,
    "id": "1xwNO7BJsK7k"
   },
   "source": [
    "# Проверка гипотез в бизнесе\n",
    "В этом проекте вы попробуете себя в роли аналитика крупного сервиса проката самокатов GoFast. Компания предоставила три датасета с данными о пользователях сервиса, их поездках за один год, а также стоимости услуг в подписках. Вас просят проанализировать демографию пользователей и особенности использования самокатов, а также определить возможную выгоду от распространения платной подписки на самокаты."
   ]
  },
  {
   "cell_type": "markdown",
   "metadata": {
    "deletable": false,
    "editable": false,
    "id": "gzyXNgprsK7m"
   },
   "source": [
    "# Описание данных\n",
    "\n",
    "Таблица с пользователями `users_go.csv`\n",
    "\n",
    "- `user_id` — уникальный идентификатор пользователя.\n",
    "\n",
    "- `name` — имя пользователя.\n",
    "\n",
    "- `age` — возраст.\n",
    "\n",
    "- `city` — город.\n",
    "\n",
    "- `subscription_type` — тип подписки: `free`, `ultra`.\n",
    "\n",
    "Таблица с поездками `rides_go.csv`\n",
    "\n",
    "- `user_id` — уникальный идентификатор пользователя.\n",
    "\n",
    "- `distance` — расстояние в метрах, которое пользователь проехал в текущей сессии.\n",
    "\n",
    "- `duration` — продолжительность сессии в минутах, то есть время с того момента, как пользователь нажал кнопку «Начать поездку», до того, как он нажал кнопку «Завершить поездку».\n",
    "\n",
    "- `date` — дата совершения поездки.\n",
    "\n",
    "Таблица с подписками `subscriptions_go.csv`\n",
    "\n",
    "- `subscription_type` — тип подписки.\n",
    "\n",
    "- `minute_price` — стоимость одной минуты поездки по этой подписке.\n",
    "\n",
    "- `start_ride_price` — стоимость начала поездки.\n",
    "\n",
    "- `subscription_fee` — стоимость ежемесячного платежа."
   ]
  },
  {
   "cell_type": "markdown",
   "metadata": {
    "deletable": false,
    "editable": false,
    "id": "Gpc3MBZRsK7m"
   },
   "source": [
    "---\n",
    "## Задание 1. Загрузка данных\n",
    "На первом этапе загрузите все необходимые данные и познакомьтесь с содержанием таблиц."
   ]
  },
  {
   "cell_type": "markdown",
   "metadata": {
    "deletable": false,
    "editable": false,
    "id": "vSu11HpOsK7m",
    "tags": [
     "start_task"
    ]
   },
   "source": [
    "### Задача 1.1 Импорт библиотеки pandas\n",
    "Импортируйте библиотеку pandas с сокращением `pd`."
   ]
  },
  {
   "cell_type": "code",
   "execution_count": 1,
   "metadata": {
    "deletable": false,
    "id": "n97uaKsR7LbX"
   },
   "outputs": [],
   "source": [
    "import pandas as pd"
   ]
  },
  {
   "cell_type": "markdown",
   "metadata": {
    "deletable": false,
    "editable": false,
    "id": "iiB5hMdMsK7n",
    "tags": [
     "start_task"
    ]
   },
   "source": [
    "### Задача 1.2 Чтение данных\n",
    "Cчитайте и сохраните в отдельные датафреймы три CSV-файла. Датафреймы назовите в соответствии с названиями файлов, добавив префикс `df_`, например `df_users_go`. Для доступа к файлам используйте следующие ссылки:\n",
    "\n",
    "- https://code.s3.yandex.net/datasets/users_go.csv\n",
    "- https://code.s3.yandex.net/datasets/rides_go.csv\n",
    "- https://code.s3.yandex.net/datasets/subscriptions_go.csv"
   ]
  },
  {
   "cell_type": "code",
   "execution_count": 2,
   "metadata": {
    "deletable": false,
    "id": "jvIwXMOz7HaE"
   },
   "outputs": [],
   "source": [
    "df_users_go = pd.read_csv('https://code.s3.yandex.net/datasets/users_go.csv')\n",
    "df_rides_go = pd.read_csv('https://code.s3.yandex.net/datasets/rides_go.csv')\n",
    "df_subscriptions_go = pd.read_csv('https://code.s3.yandex.net/datasets/subscriptions_go.csv') "
   ]
  },
  {
   "cell_type": "markdown",
   "metadata": {
    "deletable": false,
    "editable": false,
    "id": "zw-1DjajsK7o",
    "tags": [
     "start_task"
    ]
   },
   "source": [
    "### Задача 1.3 Печать первых строк\n",
    "Выведите первые пять строк каждого датафрейма. Познакомьтесь с содержанием таблиц."
   ]
  },
  {
   "cell_type": "markdown",
   "metadata": {
    "deletable": false,
    "editable": false,
    "id": "sO6J_nPe7aUd"
   },
   "source": [
    "<details>\n",
    "<summary>Открыть подсказку</summary>\n",
    "Чтобы распечатать несколько датафреймов в одной ячейке, можно воспользоваться функцией <code>display()</code>.\n",
    "</details>"
   ]
  },
  {
   "cell_type": "code",
   "execution_count": 3,
   "metadata": {
    "deletable": false,
    "id": "7aqE6vqSHZE-"
   },
   "outputs": [
    {
     "data": {
      "text/html": [
       "<div>\n",
       "<style scoped>\n",
       "    .dataframe tbody tr th:only-of-type {\n",
       "        vertical-align: middle;\n",
       "    }\n",
       "\n",
       "    .dataframe tbody tr th {\n",
       "        vertical-align: top;\n",
       "    }\n",
       "\n",
       "    .dataframe thead th {\n",
       "        text-align: right;\n",
       "    }\n",
       "</style>\n",
       "<table border=\"1\" class=\"dataframe\">\n",
       "  <thead>\n",
       "    <tr style=\"text-align: right;\">\n",
       "      <th></th>\n",
       "      <th>user_id</th>\n",
       "      <th>name</th>\n",
       "      <th>age</th>\n",
       "      <th>city</th>\n",
       "      <th>subscription_type</th>\n",
       "    </tr>\n",
       "  </thead>\n",
       "  <tbody>\n",
       "    <tr>\n",
       "      <th>0</th>\n",
       "      <td>1</td>\n",
       "      <td>Кира</td>\n",
       "      <td>22</td>\n",
       "      <td>Тюмень</td>\n",
       "      <td>ultra</td>\n",
       "    </tr>\n",
       "    <tr>\n",
       "      <th>1</th>\n",
       "      <td>2</td>\n",
       "      <td>Станислав</td>\n",
       "      <td>31</td>\n",
       "      <td>Омск</td>\n",
       "      <td>ultra</td>\n",
       "    </tr>\n",
       "    <tr>\n",
       "      <th>2</th>\n",
       "      <td>3</td>\n",
       "      <td>Алексей</td>\n",
       "      <td>20</td>\n",
       "      <td>Москва</td>\n",
       "      <td>ultra</td>\n",
       "    </tr>\n",
       "    <tr>\n",
       "      <th>3</th>\n",
       "      <td>4</td>\n",
       "      <td>Константин</td>\n",
       "      <td>26</td>\n",
       "      <td>Ростов-на-Дону</td>\n",
       "      <td>ultra</td>\n",
       "    </tr>\n",
       "    <tr>\n",
       "      <th>4</th>\n",
       "      <td>5</td>\n",
       "      <td>Адель</td>\n",
       "      <td>28</td>\n",
       "      <td>Омск</td>\n",
       "      <td>ultra</td>\n",
       "    </tr>\n",
       "  </tbody>\n",
       "</table>\n",
       "</div>"
      ],
      "text/plain": [
       "   user_id        name  age            city subscription_type\n",
       "0        1        Кира   22          Тюмень             ultra\n",
       "1        2   Станислав   31            Омск             ultra\n",
       "2        3     Алексей   20          Москва             ultra\n",
       "3        4  Константин   26  Ростов-на-Дону             ultra\n",
       "4        5       Адель   28            Омск             ultra"
      ]
     },
     "metadata": {},
     "output_type": "display_data"
    },
    {
     "data": {
      "text/html": [
       "<div>\n",
       "<style scoped>\n",
       "    .dataframe tbody tr th:only-of-type {\n",
       "        vertical-align: middle;\n",
       "    }\n",
       "\n",
       "    .dataframe tbody tr th {\n",
       "        vertical-align: top;\n",
       "    }\n",
       "\n",
       "    .dataframe thead th {\n",
       "        text-align: right;\n",
       "    }\n",
       "</style>\n",
       "<table border=\"1\" class=\"dataframe\">\n",
       "  <thead>\n",
       "    <tr style=\"text-align: right;\">\n",
       "      <th></th>\n",
       "      <th>user_id</th>\n",
       "      <th>distance</th>\n",
       "      <th>duration</th>\n",
       "      <th>date</th>\n",
       "    </tr>\n",
       "  </thead>\n",
       "  <tbody>\n",
       "    <tr>\n",
       "      <th>0</th>\n",
       "      <td>1</td>\n",
       "      <td>4409.919140</td>\n",
       "      <td>25.599769</td>\n",
       "      <td>2021-01-01</td>\n",
       "    </tr>\n",
       "    <tr>\n",
       "      <th>1</th>\n",
       "      <td>1</td>\n",
       "      <td>2617.592153</td>\n",
       "      <td>15.816871</td>\n",
       "      <td>2021-01-18</td>\n",
       "    </tr>\n",
       "    <tr>\n",
       "      <th>2</th>\n",
       "      <td>1</td>\n",
       "      <td>754.159807</td>\n",
       "      <td>6.232113</td>\n",
       "      <td>2021-04-20</td>\n",
       "    </tr>\n",
       "    <tr>\n",
       "      <th>3</th>\n",
       "      <td>1</td>\n",
       "      <td>2694.783254</td>\n",
       "      <td>18.511000</td>\n",
       "      <td>2021-08-11</td>\n",
       "    </tr>\n",
       "    <tr>\n",
       "      <th>4</th>\n",
       "      <td>1</td>\n",
       "      <td>4028.687306</td>\n",
       "      <td>26.265803</td>\n",
       "      <td>2021-08-28</td>\n",
       "    </tr>\n",
       "  </tbody>\n",
       "</table>\n",
       "</div>"
      ],
      "text/plain": [
       "   user_id     distance   duration        date\n",
       "0        1  4409.919140  25.599769  2021-01-01\n",
       "1        1  2617.592153  15.816871  2021-01-18\n",
       "2        1   754.159807   6.232113  2021-04-20\n",
       "3        1  2694.783254  18.511000  2021-08-11\n",
       "4        1  4028.687306  26.265803  2021-08-28"
      ]
     },
     "metadata": {},
     "output_type": "display_data"
    },
    {
     "data": {
      "text/html": [
       "<div>\n",
       "<style scoped>\n",
       "    .dataframe tbody tr th:only-of-type {\n",
       "        vertical-align: middle;\n",
       "    }\n",
       "\n",
       "    .dataframe tbody tr th {\n",
       "        vertical-align: top;\n",
       "    }\n",
       "\n",
       "    .dataframe thead th {\n",
       "        text-align: right;\n",
       "    }\n",
       "</style>\n",
       "<table border=\"1\" class=\"dataframe\">\n",
       "  <thead>\n",
       "    <tr style=\"text-align: right;\">\n",
       "      <th></th>\n",
       "      <th>subscription_type</th>\n",
       "      <th>minute_price</th>\n",
       "      <th>start_ride_price</th>\n",
       "      <th>subscription_fee</th>\n",
       "    </tr>\n",
       "  </thead>\n",
       "  <tbody>\n",
       "    <tr>\n",
       "      <th>0</th>\n",
       "      <td>free</td>\n",
       "      <td>8</td>\n",
       "      <td>50</td>\n",
       "      <td>0</td>\n",
       "    </tr>\n",
       "    <tr>\n",
       "      <th>1</th>\n",
       "      <td>ultra</td>\n",
       "      <td>6</td>\n",
       "      <td>0</td>\n",
       "      <td>199</td>\n",
       "    </tr>\n",
       "  </tbody>\n",
       "</table>\n",
       "</div>"
      ],
      "text/plain": [
       "  subscription_type  minute_price  start_ride_price  subscription_fee\n",
       "0              free             8                50                 0\n",
       "1             ultra             6                 0               199"
      ]
     },
     "metadata": {},
     "output_type": "display_data"
    }
   ],
   "source": [
    "display(df_users_go.head())\n",
    "display(df_rides_go.head())\n",
    "display(df_subscriptions_go.head())"
   ]
  },
  {
   "cell_type": "markdown",
   "metadata": {
    "deletable": false,
    "editable": false,
    "id": "zjZVYVQ3sK7p",
    "tags": [
     "start_task"
    ]
   },
   "source": [
    "### Задача 1.4 Подсчёт строк\n",
    "Определите количество строк в каждом из трёх датафреймов. Это поможет оценить объём данных и выявить аномалии, например слишком малое количество записей. В качестве ответа запишите три целых числа в одну строку через пробел."
   ]
  },
  {
   "cell_type": "code",
   "execution_count": 4,
   "metadata": {
    "deletable": false,
    "id": "I-mEFxuHHavX"
   },
   "outputs": [
    {
     "name": "stdout",
     "output_type": "stream",
     "text": [
      "1565 18068 2\n"
     ]
    }
   ],
   "source": [
    "print(df_users_go.shape[0], df_rides_go.shape[0],df_subscriptions_go.shape[0])\n"
   ]
  },
  {
   "cell_type": "markdown",
   "metadata": {
    "deletable": false,
    "editable": false,
    "id": "xXmiI6QYsK7q"
   },
   "source": [
    "---\n",
    "## Задание 2. Знакомство с данными и их предварительная подготовка\n",
    "\n",
    "Прежде чем начать анализ, важно убедиться в качестве предоставленных данных. Выполните несколько шагов, чтобы лучше понять структуру и устранить потенциальные проблемы в таблицах."
   ]
  },
  {
   "cell_type": "markdown",
   "metadata": {
    "deletable": false,
    "editable": false,
    "id": "2D6UywOBsK7q",
    "tags": [
     "start_task"
    ]
   },
   "source": [
    "### Задача 2.1 Определение типов данных\n",
    "В датафрейме `df_rides_go` выведите типы данных каждой колонки стандартным атрибутом `dtypes`. Так вы проверите корректность типов и подготовите данные для дальнейшей обработки."
   ]
  },
  {
   "cell_type": "code",
   "execution_count": 5,
   "metadata": {
    "deletable": false,
    "id": "B40wZ2cnHfAM"
   },
   "outputs": [
    {
     "data": {
      "text/plain": [
       "user_id       int64\n",
       "distance    float64\n",
       "duration    float64\n",
       "date         object\n",
       "dtype: object"
      ]
     },
     "metadata": {},
     "output_type": "display_data"
    }
   ],
   "source": [
    "display(df_rides_go.dtypes)"
   ]
  },
  {
   "cell_type": "markdown",
   "metadata": {
    "deletable": false,
    "editable": false,
    "id": "R0EN6gRJsK7r",
    "tags": [
     "start_task"
    ]
   },
   "source": [
    "### Задача 2.2 Преобразование формата даты\n",
    "Приведите столбец `date` в датафрейме `df_rides_go` к типу даты pandas, используя метод `pd.to_datetime()`, изученный вами в одном из прошлых спринтов. Этот шаг упростит работу с временными данными."
   ]
  },
  {
   "cell_type": "code",
   "execution_count": 6,
   "metadata": {
    "deletable": false,
    "id": "flLYZquqHggn"
   },
   "outputs": [],
   "source": [
    "df_rides_go['date']=pd.to_datetime(df_rides_go['date'])"
   ]
  },
  {
   "cell_type": "markdown",
   "metadata": {
    "deletable": false,
    "editable": false,
    "id": "RVxOqAqtsK7r",
    "tags": [
     "start_task"
    ]
   },
   "source": [
    "### Задача 2.3 Создание столбца с месяцем\n",
    "На основе столбца `date` создайте новый столбец `month`, содержащий номер месяца. Это нужно для последующей группировки данных и анализа сезонных трендов."
   ]
  },
  {
   "cell_type": "code",
   "execution_count": 7,
   "metadata": {
    "deletable": false,
    "id": "LYkUO3EnHhu5"
   },
   "outputs": [],
   "source": [
    "df_rides_go['month'] = df_rides_go['date'].dt.month"
   ]
  },
  {
   "cell_type": "markdown",
   "metadata": {
    "deletable": false,
    "editable": false,
    "id": "u69-EsMDsK7w",
    "tags": [
     "start_task"
    ]
   },
   "source": [
    "### Задача 2.4 Поиск дублей и пропусков\n",
    "В датафрейме пользователей `df_users_go` определите количество пропусков и дубликатов. Это необходимо для понимания полноты и уникальности данных пользователей. Ответ выведите в виде двух целых чисел, разделённых пробелом. Например: `10 20`."
   ]
  },
  {
   "cell_type": "code",
   "execution_count": 8,
   "metadata": {
    "deletable": false,
    "id": "Bsfa7IX3Hi7w"
   },
   "outputs": [
    {
     "name": "stdout",
     "output_type": "stream",
     "text": [
      "0 31\n"
     ]
    }
   ],
   "source": [
    "print(0, df_users_go.duplicated().sum())"
   ]
  },
  {
   "cell_type": "markdown",
   "metadata": {
    "deletable": false,
    "editable": false,
    "id": "0n5_KBqtsK7y",
    "tags": [
     "start_task"
    ]
   },
   "source": [
    "### Задача 2.5 Заполнение пропусков и удаление дублей\n",
    "При наличии пропущенных значений заполните их нулями, а все дубликаты удалите. Это шаг необходим для улучшения качества данных, что является ключевым для точного анализа. Все операции проводите с созданными в рамках задачи 1 датафреймами."
   ]
  },
  {
   "cell_type": "markdown",
   "metadata": {
    "deletable": false,
    "editable": false,
    "id": "0pfQQZP7-n_F"
   },
   "source": [
    "<details>\n",
    "<summary>Открыть подсказку</summary>\n",
    "Внимательно изучите результаты предыдущих шагов и определите, какие датасеты вам понадобятся.\n",
    "</details>"
   ]
  },
  {
   "cell_type": "code",
   "execution_count": 9,
   "metadata": {
    "deletable": false,
    "id": "X75yCyl_HkUS"
   },
   "outputs": [
    {
     "name": "stdout",
     "output_type": "stream",
     "text": [
      "1534\n"
     ]
    },
    {
     "data": {
      "text/plain": [
       "array(['Тюмень', 'Омск', 'Москва', 'Ростов-на-Дону', 'Краснодар',\n",
       "       'Пятигорск', 'Екатеринбург', 'Сочи'], dtype=object)"
      ]
     },
     "metadata": {},
     "output_type": "display_data"
    },
    {
     "data": {
      "text/html": [
       "<div>\n",
       "<style scoped>\n",
       "    .dataframe tbody tr th:only-of-type {\n",
       "        vertical-align: middle;\n",
       "    }\n",
       "\n",
       "    .dataframe tbody tr th {\n",
       "        vertical-align: top;\n",
       "    }\n",
       "\n",
       "    .dataframe thead th {\n",
       "        text-align: right;\n",
       "    }\n",
       "</style>\n",
       "<table border=\"1\" class=\"dataframe\">\n",
       "  <thead>\n",
       "    <tr style=\"text-align: right;\">\n",
       "      <th></th>\n",
       "      <th>user_id</th>\n",
       "      <th>name</th>\n",
       "      <th>age</th>\n",
       "      <th>city</th>\n",
       "      <th>subscription_type</th>\n",
       "    </tr>\n",
       "  </thead>\n",
       "  <tbody>\n",
       "    <tr>\n",
       "      <th>0</th>\n",
       "      <td>1</td>\n",
       "      <td>Кира</td>\n",
       "      <td>22</td>\n",
       "      <td>Тюмень</td>\n",
       "      <td>ultra</td>\n",
       "    </tr>\n",
       "    <tr>\n",
       "      <th>1</th>\n",
       "      <td>2</td>\n",
       "      <td>Станислав</td>\n",
       "      <td>31</td>\n",
       "      <td>Омск</td>\n",
       "      <td>ultra</td>\n",
       "    </tr>\n",
       "    <tr>\n",
       "      <th>2</th>\n",
       "      <td>3</td>\n",
       "      <td>Алексей</td>\n",
       "      <td>20</td>\n",
       "      <td>Москва</td>\n",
       "      <td>ultra</td>\n",
       "    </tr>\n",
       "    <tr>\n",
       "      <th>3</th>\n",
       "      <td>4</td>\n",
       "      <td>Константин</td>\n",
       "      <td>26</td>\n",
       "      <td>Ростов-на-Дону</td>\n",
       "      <td>ultra</td>\n",
       "    </tr>\n",
       "    <tr>\n",
       "      <th>4</th>\n",
       "      <td>5</td>\n",
       "      <td>Адель</td>\n",
       "      <td>28</td>\n",
       "      <td>Омск</td>\n",
       "      <td>ultra</td>\n",
       "    </tr>\n",
       "    <tr>\n",
       "      <th>...</th>\n",
       "      <td>...</td>\n",
       "      <td>...</td>\n",
       "      <td>...</td>\n",
       "      <td>...</td>\n",
       "      <td>...</td>\n",
       "    </tr>\n",
       "    <tr>\n",
       "      <th>1529</th>\n",
       "      <td>1530</td>\n",
       "      <td>Ростислав</td>\n",
       "      <td>29</td>\n",
       "      <td>Сочи</td>\n",
       "      <td>free</td>\n",
       "    </tr>\n",
       "    <tr>\n",
       "      <th>1530</th>\n",
       "      <td>1531</td>\n",
       "      <td>Никита</td>\n",
       "      <td>25</td>\n",
       "      <td>Пятигорск</td>\n",
       "      <td>free</td>\n",
       "    </tr>\n",
       "    <tr>\n",
       "      <th>1531</th>\n",
       "      <td>1532</td>\n",
       "      <td>Алексей</td>\n",
       "      <td>26</td>\n",
       "      <td>Тюмень</td>\n",
       "      <td>free</td>\n",
       "    </tr>\n",
       "    <tr>\n",
       "      <th>1532</th>\n",
       "      <td>1533</td>\n",
       "      <td>Степан</td>\n",
       "      <td>22</td>\n",
       "      <td>Краснодар</td>\n",
       "      <td>free</td>\n",
       "    </tr>\n",
       "    <tr>\n",
       "      <th>1533</th>\n",
       "      <td>1534</td>\n",
       "      <td>Альберт</td>\n",
       "      <td>25</td>\n",
       "      <td>Краснодар</td>\n",
       "      <td>free</td>\n",
       "    </tr>\n",
       "  </tbody>\n",
       "</table>\n",
       "<p>1534 rows × 5 columns</p>\n",
       "</div>"
      ],
      "text/plain": [
       "      user_id        name  age            city subscription_type\n",
       "0           1        Кира   22          Тюмень             ultra\n",
       "1           2   Станислав   31            Омск             ultra\n",
       "2           3     Алексей   20          Москва             ultra\n",
       "3           4  Константин   26  Ростов-на-Дону             ultra\n",
       "4           5       Адель   28            Омск             ultra\n",
       "...       ...         ...  ...             ...               ...\n",
       "1529     1530   Ростислав   29            Сочи              free\n",
       "1530     1531      Никита   25       Пятигорск              free\n",
       "1531     1532     Алексей   26          Тюмень              free\n",
       "1532     1533      Степан   22       Краснодар              free\n",
       "1533     1534     Альберт   25       Краснодар              free\n",
       "\n",
       "[1534 rows x 5 columns]"
      ]
     },
     "metadata": {},
     "output_type": "display_data"
    }
   ],
   "source": [
    "df_users_go.fillna(0) \n",
    "df_rides_go.fillna(0)  \n",
    "df_subscriptions_go.fillna(0) \n",
    "df_users_go = df_users_go.drop_duplicates()\n",
    "df_rides_go = df_rides_go.drop_duplicates() \n",
    "df_subscriptions_go = df_subscriptions_go.drop_duplicates()\n",
    "#df_users_go = df_users_go.drop_duplicates(subset=['name', '''city'], keep='first', inplace=False) \n",
    "print(df_users_go.shape[0])\n",
    "display(df_users_go['city'].unique())\n",
    "display(df_users_go)"
   ]
  },
  {
   "cell_type": "markdown",
   "metadata": {
    "deletable": false,
    "editable": false,
    "id": "kAGj3NxDsK7z",
    "tags": [
     "start_task"
    ]
   },
   "source": [
    "### Задача 2.6 Округление длительности поездки\n",
    "В датафрейме поездок `df_rides_go` округлите время поездки `duration` до целого числа стандартным методом `round()`. Затем приведите эту колонку к целочисленному типу `int`. Этот шаг затем поможет вам правильно рассчитать прибыль, так как плата взимается только за целое число минут."
   ]
  },
  {
   "cell_type": "code",
   "execution_count": 10,
   "metadata": {
    "deletable": false,
    "id": "pm5FYnl_HlSd"
   },
   "outputs": [
    {
     "name": "stdout",
     "output_type": "stream",
     "text": [
      "   user_id     distance  duration       date  month\n",
      "0        1  4409.919140        26 2021-01-01      1\n",
      "1        1  2617.592153        16 2021-01-18      1\n",
      "2        1   754.159807         6 2021-04-20      4\n",
      "3        1  2694.783254        19 2021-08-11      8\n",
      "4        1  4028.687306        26 2021-08-28      8\n"
     ]
    }
   ],
   "source": [
    "df_rides_go['duration'] = round(df_rides_go['duration'],0)\n",
    "df_rides_go['duration'] = df_rides_go['duration'].astype('int64')\n",
    "print(df_rides_go.head())"
   ]
  },
  {
   "cell_type": "markdown",
   "metadata": {
    "deletable": false,
    "editable": false,
    "id": "r5kzIOGGsK7z"
   },
   "source": [
    "---\n",
    "## Задание 3. Исследовательский анализ данных (EDA)\n",
    "Исследовательский анализ данных — неотъемлемая часть работы аналитика. В этом задании вы внимательнее изучите и визуализируете информацию о географии и демографии сервиса, а также лучше поймёте закономерности в дистанциях и длительности поездок.\n"
   ]
  },
  {
   "cell_type": "markdown",
   "metadata": {
    "deletable": false,
    "editable": false,
    "id": "mnLLcghssK70",
    "tags": [
     "start_task"
    ]
   },
   "source": [
    "### Задача 3.1 Импорт библиотеки matplotlib\n",
    "Импортируйте библиотеку matplotlib.pyplot с сокращением `plt`."
   ]
  },
  {
   "cell_type": "code",
   "execution_count": 11,
   "metadata": {
    "deletable": false,
    "id": "gtf8ylhTHnBO"
   },
   "outputs": [],
   "source": [
    "import matplotlib.pyplot as plt"
   ]
  },
  {
   "cell_type": "markdown",
   "metadata": {
    "deletable": false,
    "editable": false,
    "id": "v4xEIrk1sK70",
    "tags": [
     "start_task"
    ]
   },
   "source": [
    "### Задача 3.2 Количество пользователей по городам.\n",
    "Пользуясь данными из датафрейма `df_users_go`, изучите количество пользователей в каждом из городов. Создайте и выведите на экран объект `pd.Series`, названный `users_by_city_count`, с одной колонкой `count` — суммарным количеством пользователей в каждом городе `city`, отсортированным по убыванию."
   ]
  },
  {
   "cell_type": "markdown",
   "metadata": {
    "deletable": false,
    "editable": false,
    "id": "UuAD6cGfE1Lp"
   },
   "source": [
    "<details>\n",
    "<summary>Открыть подсказку</summary>\n",
    "В этом задании можно воспользоваться методом <code>value_counts()</code>.\n",
    "</details>"
   ]
  },
  {
   "cell_type": "code",
   "execution_count": 12,
   "metadata": {
    "deletable": false,
    "id": "rkqVGZ9HHoXm"
   },
   "outputs": [
    {
     "name": "stdout",
     "output_type": "stream",
     "text": [
      "Пятигорск         219\n",
      "Екатеринбург      204\n",
      "Ростов-на-Дону    198\n",
      "Краснодар         193\n",
      "Сочи              189\n",
      "Омск              183\n",
      "Тюмень            180\n",
      "Москва            168\n",
      "Name: city, dtype: int64\n"
     ]
    }
   ],
   "source": [
    "users_by_city_count = df_users_go['city'].value_counts().sort_values(ascending=False)\n",
    "print(users_by_city_count)"
   ]
  },
  {
   "cell_type": "markdown",
   "metadata": {
    "deletable": false,
    "editable": false,
    "id": "T4MURCh8sK76",
    "tags": [
     "start_task"
    ]
   },
   "source": [
    "### Задача 3.3 Количество пользователей подписки\n",
    "Создайте и выведите на экран серию `subscription_type_count` с количеством пользователей для каждого типа подписки `subscription_type`."
   ]
  },
  {
   "cell_type": "markdown",
   "metadata": {
    "deletable": false,
    "editable": false,
    "id": "M_6HyiPdFeNH"
   },
   "source": [
    "<details>\n",
    "<summary>Открыть подсказку</summary>\n",
    "В этом задании можно воспользоваться методом <code>value_counts()</code>.\n",
    "</details>"
   ]
  },
  {
   "cell_type": "code",
   "execution_count": 13,
   "metadata": {
    "deletable": false,
    "id": "Fc_B3eFvHpum"
   },
   "outputs": [
    {
     "name": "stdout",
     "output_type": "stream",
     "text": [
      "free     835\n",
      "ultra    699\n",
      "Name: subscription_type, dtype: int64\n"
     ]
    }
   ],
   "source": [
    "subscription_type_count = df_users_go['subscription_type'].value_counts().sort_values(ascending=False)\n",
    "print(subscription_type_count)"
   ]
  },
  {
   "cell_type": "markdown",
   "metadata": {
    "deletable": false,
    "editable": false,
    "id": "O3lz5rR4sK77",
    "tags": [
     "start_task"
    ]
   },
   "source": [
    "### Задача 3.4 Круговая диаграмма\n",
    "Постройте круговую диаграмму, указав процент пользователей с `free` и `ultra` подпиской. Вызовите метод `plot()` для серии `subscription_type_count` с указанием нужного аргумента для построения круговой диаграммы.\n",
    "\n",
    "Затем добавьте следующее:\n",
    "- **Заголовок.** Установите заголовок с помощью параметра `title`, задав его как `'Соотношение пользователей с подпиской и без подписки'`.\n",
    "- **Процентные метки.** Используйте параметр `autopct='%.0f%%'` для отображения процентных значений на диаграмме. Достаточно передать аргумент в указанном виде методу `plot()`. Процентные метки часто хорошо дополняют круговые диаграммы.\n",
    "- **Подпись оси Y.** Установите пустую строку для подписи оси Y `(ylabel='')`, чтобы она не отображалась.\n",
    "- **Цвета секторов.** Используйте параметр `colors`, задав красный цвет `red` для пользователей без подписки и зелёный `green` для подписчиков.\n",
    "\n",
    "Затем вызовите `plt.show()` для отображения диаграммы."
   ]
  },
  {
   "cell_type": "code",
   "execution_count": 14,
   "metadata": {
    "deletable": false,
    "id": "xdIJI_KoHr7b"
   },
   "outputs": [
    {
     "data": {
      "image/png": "[encoded data removed]",
      "text/plain": [
       "<Figure size 432x288 with 1 Axes>"
      ]
     },
     "metadata": {},
     "output_type": "display_data"
    }
   ],
   "source": [
    "subscription_type_count.plot(\n",
    "    kind=\"pie\",\n",
    "    title='Соотношение пользователей с подпиской и без подписки',\n",
    "    autopct='%.0f%%',\n",
    "    ylabel='',\n",
    "    colors = ['red', 'green'])\n",
    "\n",
    "plt.show()"
   ]
  },
  {
   "cell_type": "markdown",
   "metadata": {
    "deletable": false,
    "editable": false,
    "id": "AghuPrntsK78",
    "tags": [
     "start_task"
    ]
   },
   "source": [
    "### Задача 3.5 Гистограмма возрастов\n",
    "Постройте гистограмму возрастов `age` пользователей самокатов. Используйте количество бинов, равное разности максимального и минимального значений возраста.\n",
    "\n",
    "Что нужно сделать:\n",
    "\n",
    "1. Определить количество бинов `n_bins` как разницу между максимальным и минимальным значениями в столбце `age`.\n",
    "2. Использовать метод `hist()` для столбца `df_users_go['age']`.\n",
    "3. Установить количество бинов через параметр `bins=n_bins`.\n",
    "4. Назначить заголовок графика как `'Возраст пользователей'` с помощью `plt.title()`.\n",
    "5. Установить подпись оси X как `'Возраст'` с помощью `plt.xlabel()`.\n",
    "6. Вызвать `plt.show()` для визуального отображения гистограммы."
   ]
  },
  {
   "cell_type": "code",
   "execution_count": 15,
   "metadata": {
    "deletable": false,
    "id": "E-0ubIOKmbCR"
   },
   "outputs": [
    {
     "data": {
      "image/png": "[encoded data removed]",
      "text/plain": [
       "<Figure size 432x288 with 1 Axes>"
      ]
     },
     "metadata": {
      "needs_background": "light"
     },
     "output_type": "display_data"
    }
   ],
   "source": [
    "n_bins = df_users_go['age'].max()-df_users_go['age'].min()\n",
    "df_users_go['age'].hist(bins = n_bins)\n",
    " \n",
    "plt.title('Возраст пользователей')\n",
    "plt.xlabel('Возраст')\n",
    "\n",
    "plt.show()"
   ]
  },
  {
   "cell_type": "markdown",
   "metadata": {
    "deletable": false,
    "editable": false,
    "id": "s0gjcXIasK7-",
    "tags": [
     "start_task"
    ]
   },
   "source": [
    "### Задача 3.6 Несовершеннолетние пользователи\n",
    "Рассчитайте долю несовершеннолетних (возрастом менее 18 лет) пользователей самокатов."
   ]
  },
  {
   "cell_type": "markdown",
   "metadata": {
    "deletable": false,
    "editable": false,
    "id": "7VY_FIj0Ifet"
   },
   "source": [
    "<details>\n",
    "<summary>Открыть подсказку</summary>\n",
    "Для начала необходимо рассчитать количество пользователей младше 18 лет — для этого вспомните принцип использования логических масок в pandas. Затем полученное значение следует разделить на количество строк в таблице. Получить его можно, например, из кортежа, который выдаёт атрибут <code>shape</code>.\n",
    "</details>"
   ]
  },
  {
   "cell_type": "code",
   "execution_count": 16,
   "metadata": {
    "deletable": false,
    "id": "OR-1q5LJI9UK"
   },
   "outputs": [
    {
     "name": "stdout",
     "output_type": "stream",
     "text": [
      "Доля несовершеннолетних пользователей самокатов составляет 5%.\n"
     ]
    }
   ],
   "source": [
    "users_under_18 = df_users_go['age'] < 18\n",
    "users_under_18_ratio = int((users_under_18.sum()*100) // df_users_go['age'].count())\n",
    "print(f'Доля несовершеннолетних пользователей самокатов составляет {users_under_18_ratio}%.')"
   ]
  },
  {
   "cell_type": "markdown",
   "metadata": {
    "deletable": false,
    "editable": false,
    "id": "FK3h1H-nP5NW",
    "tags": [
     "start_task"
    ]
   },
   "source": [
    "### Задача 3.7 Характеристики длительности поездки\n",
    "Длительность поездки является важной метрикой в работе сервиса проката самокатов. Если средняя длительность поездок будет слишком высокой, самокаты будут быстрее выходить из строя. Если слишком низкой, значит, клиентам что-то не нравится в сервисе.\n",
    "\n",
    "В этом задании с помощью описательной статистики вы изучите длительность поездок:\n",
    "\n",
    "1. Используйте колонку `duration` из датафрейма `df_rides_go`.\n",
    "2. Расчитайте среднее значение и стандартное отклонение длительности поездки. Для расчёта стандартного отклонения можно воспользоваться методом `std()`.\n",
    "3. Рассчитайте 25-й и 75-й процентили длительности поездки.\n",
    "4. Выведите на экран ответ по предложенному шаблону.\n",
    "\n",
    "Используя шаблон, сформулируйте и выведите текстовый вывод о средней длительности поездки, а также о 25-м и 75-м процентилях длительности.\n"
   ]
  },
  {
   "cell_type": "code",
   "execution_count": 17,
   "metadata": {
    "deletable": false,
    "id": "Gnhi9BqZKr3-"
   },
   "outputs": [
    {
     "name": "stdout",
     "output_type": "stream",
     "text": [
      "Средняя длительность поездки 18 минут со стандартным отклонением 6. Основная часть поездок занимает от 14 до 22 минут.\n"
     ]
    }
   ],
   "source": [
    "duration_mean = int(df_rides_go['duration'].mean().round())\n",
    "duration_std = int(df_rides_go['duration'].std())\n",
    "\n",
    "duration_pct25 = int(df_rides_go['duration'].quantile(0.25))\n",
    "duration_pct75 = int(df_rides_go['duration'].quantile(0.75))\n",
    "\n",
    "print(f'Средняя длительность поездки {duration_mean} минут со стандартным отклонением {duration_std}. Основная часть поездок занимает от {duration_pct25} до {duration_pct75} минут.')"
   ]
  },
  {
   "cell_type": "markdown",
   "metadata": {
    "deletable": false,
    "editable": false,
    "id": "tyrEdxs0sK8C"
   },
   "source": [
    "---\n",
    "## Задание 4. Объединение данных\n",
    "\n",
    "В самом начале урока вы загрузили три таблицы, настало время объединить все эти данные в один датафрейм."
   ]
  },
  {
   "cell_type": "markdown",
   "metadata": {
    "deletable": false,
    "editable": false,
    "id": "diTj4AtBsK8C",
    "tags": [
     "start_task"
    ]
   },
   "source": [
    "### Задача 4.1 Объединение таблицы пользователей и поездок\n",
    "Объедините датафреймы с информацией о пользователях `df_users_go` и поездках `df_rides_go`. Полученный датафрейм назовите просто `df`. При объединении используйте метод `merge()` по общей для двух таблиц колонке и тип объединения `left`."
   ]
  },
  {
   "cell_type": "code",
   "execution_count": 18,
   "metadata": {
    "deletable": false,
    "id": "WwPCouN0nhPk"
   },
   "outputs": [
    {
     "name": "stdout",
     "output_type": "stream",
     "text": [
      "       user_id     distance  duration       date  month     name  age  \\\n",
      "0            1  4409.919140        26 2021-01-01      1     Кира   22   \n",
      "1            1  2617.592153        16 2021-01-18      1     Кира   22   \n",
      "2            1   754.159807         6 2021-04-20      4     Кира   22   \n",
      "3            1  2694.783254        19 2021-08-11      8     Кира   22   \n",
      "4            1  4028.687306        26 2021-08-28      8     Кира   22   \n",
      "...        ...          ...       ...        ...    ...      ...  ...   \n",
      "18063     1534  3781.098080        20 2021-11-04     11  Альберт   25   \n",
      "18064     1534  2840.423057        21 2021-11-16     11  Альберт   25   \n",
      "18065     1534  3826.185507        18 2021-11-18     11  Альберт   25   \n",
      "18066     1534  2902.308661        17 2021-11-27     11  Альберт   25   \n",
      "18067     1534  2371.711192        16 2021-12-29     12  Альберт   25   \n",
      "\n",
      "            city subscription_type  \n",
      "0         Тюмень             ultra  \n",
      "1         Тюмень             ultra  \n",
      "2         Тюмень             ultra  \n",
      "3         Тюмень             ultra  \n",
      "4         Тюмень             ultra  \n",
      "...          ...               ...  \n",
      "18063  Краснодар              free  \n",
      "18064  Краснодар              free  \n",
      "18065  Краснодар              free  \n",
      "18066  Краснодар              free  \n",
      "18067  Краснодар              free  \n",
      "\n",
      "[18068 rows x 9 columns]\n"
     ]
    }
   ],
   "source": [
    "df = df_rides_go.merge(df_users_go, on='user_id', how = 'left') \n",
    "print (df)"
   ]
  },
  {
   "cell_type": "markdown",
   "metadata": {
    "deletable": false,
    "editable": false,
    "id": "-RP6pSRQsK8D",
    "tags": [
     "start_task"
    ]
   },
   "source": [
    "### Задача 4.2 Присоединение информации о подписках\n",
    "Присоедините к полученному датафрейму `df` информацию о подписках из `df_subscriptions_go`, используя метод `merge()` по общей колонке и тип объединения `left`.\n"
   ]
  },
  {
   "cell_type": "code",
   "execution_count": 19,
   "metadata": {
    "deletable": false,
    "id": "G2coeCg2n6oe"
   },
   "outputs": [
    {
     "data": {
      "text/html": [
       "<div>\n",
       "<style scoped>\n",
       "    .dataframe tbody tr th:only-of-type {\n",
       "        vertical-align: middle;\n",
       "    }\n",
       "\n",
       "    .dataframe tbody tr th {\n",
       "        vertical-align: top;\n",
       "    }\n",
       "\n",
       "    .dataframe thead th {\n",
       "        text-align: right;\n",
       "    }\n",
       "</style>\n",
       "<table border=\"1\" class=\"dataframe\">\n",
       "  <thead>\n",
       "    <tr style=\"text-align: right;\">\n",
       "      <th></th>\n",
       "      <th>user_id</th>\n",
       "      <th>distance</th>\n",
       "      <th>duration</th>\n",
       "      <th>date</th>\n",
       "      <th>month</th>\n",
       "      <th>name</th>\n",
       "      <th>age</th>\n",
       "      <th>city</th>\n",
       "      <th>subscription_type</th>\n",
       "      <th>minute_price</th>\n",
       "      <th>start_ride_price</th>\n",
       "      <th>subscription_fee</th>\n",
       "    </tr>\n",
       "  </thead>\n",
       "  <tbody>\n",
       "    <tr>\n",
       "      <th>0</th>\n",
       "      <td>1</td>\n",
       "      <td>4409.919140</td>\n",
       "      <td>26</td>\n",
       "      <td>2021-01-01</td>\n",
       "      <td>1</td>\n",
       "      <td>Кира</td>\n",
       "      <td>22</td>\n",
       "      <td>Тюмень</td>\n",
       "      <td>ultra</td>\n",
       "      <td>6</td>\n",
       "      <td>0</td>\n",
       "      <td>199</td>\n",
       "    </tr>\n",
       "    <tr>\n",
       "      <th>1</th>\n",
       "      <td>1</td>\n",
       "      <td>2617.592153</td>\n",
       "      <td>16</td>\n",
       "      <td>2021-01-18</td>\n",
       "      <td>1</td>\n",
       "      <td>Кира</td>\n",
       "      <td>22</td>\n",
       "      <td>Тюмень</td>\n",
       "      <td>ultra</td>\n",
       "      <td>6</td>\n",
       "      <td>0</td>\n",
       "      <td>199</td>\n",
       "    </tr>\n",
       "    <tr>\n",
       "      <th>2</th>\n",
       "      <td>1</td>\n",
       "      <td>754.159807</td>\n",
       "      <td>6</td>\n",
       "      <td>2021-04-20</td>\n",
       "      <td>4</td>\n",
       "      <td>Кира</td>\n",
       "      <td>22</td>\n",
       "      <td>Тюмень</td>\n",
       "      <td>ultra</td>\n",
       "      <td>6</td>\n",
       "      <td>0</td>\n",
       "      <td>199</td>\n",
       "    </tr>\n",
       "    <tr>\n",
       "      <th>3</th>\n",
       "      <td>1</td>\n",
       "      <td>2694.783254</td>\n",
       "      <td>19</td>\n",
       "      <td>2021-08-11</td>\n",
       "      <td>8</td>\n",
       "      <td>Кира</td>\n",
       "      <td>22</td>\n",
       "      <td>Тюмень</td>\n",
       "      <td>ultra</td>\n",
       "      <td>6</td>\n",
       "      <td>0</td>\n",
       "      <td>199</td>\n",
       "    </tr>\n",
       "    <tr>\n",
       "      <th>4</th>\n",
       "      <td>1</td>\n",
       "      <td>4028.687306</td>\n",
       "      <td>26</td>\n",
       "      <td>2021-08-28</td>\n",
       "      <td>8</td>\n",
       "      <td>Кира</td>\n",
       "      <td>22</td>\n",
       "      <td>Тюмень</td>\n",
       "      <td>ultra</td>\n",
       "      <td>6</td>\n",
       "      <td>0</td>\n",
       "      <td>199</td>\n",
       "    </tr>\n",
       "  </tbody>\n",
       "</table>\n",
       "</div>"
      ],
      "text/plain": [
       "   user_id     distance  duration       date  month  name  age    city  \\\n",
       "0        1  4409.919140        26 2021-01-01      1  Кира   22  Тюмень   \n",
       "1        1  2617.592153        16 2021-01-18      1  Кира   22  Тюмень   \n",
       "2        1   754.159807         6 2021-04-20      4  Кира   22  Тюмень   \n",
       "3        1  2694.783254        19 2021-08-11      8  Кира   22  Тюмень   \n",
       "4        1  4028.687306        26 2021-08-28      8  Кира   22  Тюмень   \n",
       "\n",
       "  subscription_type  minute_price  start_ride_price  subscription_fee  \n",
       "0             ultra             6                 0               199  \n",
       "1             ultra             6                 0               199  \n",
       "2             ultra             6                 0               199  \n",
       "3             ultra             6                 0               199  \n",
       "4             ultra             6                 0               199  "
      ]
     },
     "metadata": {},
     "output_type": "display_data"
    }
   ],
   "source": [
    "df = df.merge(df_subscriptions_go, on='subscription_type', how = 'left') \n",
    "#display(df_subscriptions_go.head())\n",
    "display(df.head())"
   ]
  },
  {
   "cell_type": "markdown",
   "metadata": {
    "deletable": false,
    "editable": false,
    "id": "RGrvW_QIsK8D",
    "tags": [
     "start_task"
    ]
   },
   "source": [
    "### Задача 4.3. Размеры объединённого датафрейма\n",
    "Для финальной проверки выведите на экран первые пять строк датафрейма, а также количество строк и столбцов полученного датафрейма `df`. Этот этап позволит убедиться, что никакие записи не потерялись при объединении."
   ]
  },
  {
   "cell_type": "code",
   "execution_count": 20,
   "metadata": {
    "deletable": false,
    "id": "9isF62fNLWAD"
   },
   "outputs": [
    {
     "data": {
      "text/html": [
       "<div>\n",
       "<style scoped>\n",
       "    .dataframe tbody tr th:only-of-type {\n",
       "        vertical-align: middle;\n",
       "    }\n",
       "\n",
       "    .dataframe tbody tr th {\n",
       "        vertical-align: top;\n",
       "    }\n",
       "\n",
       "    .dataframe thead th {\n",
       "        text-align: right;\n",
       "    }\n",
       "</style>\n",
       "<table border=\"1\" class=\"dataframe\">\n",
       "  <thead>\n",
       "    <tr style=\"text-align: right;\">\n",
       "      <th></th>\n",
       "      <th>user_id</th>\n",
       "      <th>distance</th>\n",
       "      <th>duration</th>\n",
       "      <th>date</th>\n",
       "      <th>month</th>\n",
       "      <th>name</th>\n",
       "      <th>age</th>\n",
       "      <th>city</th>\n",
       "      <th>subscription_type</th>\n",
       "      <th>minute_price</th>\n",
       "      <th>start_ride_price</th>\n",
       "      <th>subscription_fee</th>\n",
       "    </tr>\n",
       "  </thead>\n",
       "  <tbody>\n",
       "    <tr>\n",
       "      <th>0</th>\n",
       "      <td>1</td>\n",
       "      <td>4409.919140</td>\n",
       "      <td>26</td>\n",
       "      <td>2021-01-01</td>\n",
       "      <td>1</td>\n",
       "      <td>Кира</td>\n",
       "      <td>22</td>\n",
       "      <td>Тюмень</td>\n",
       "      <td>ultra</td>\n",
       "      <td>6</td>\n",
       "      <td>0</td>\n",
       "      <td>199</td>\n",
       "    </tr>\n",
       "    <tr>\n",
       "      <th>1</th>\n",
       "      <td>1</td>\n",
       "      <td>2617.592153</td>\n",
       "      <td>16</td>\n",
       "      <td>2021-01-18</td>\n",
       "      <td>1</td>\n",
       "      <td>Кира</td>\n",
       "      <td>22</td>\n",
       "      <td>Тюмень</td>\n",
       "      <td>ultra</td>\n",
       "      <td>6</td>\n",
       "      <td>0</td>\n",
       "      <td>199</td>\n",
       "    </tr>\n",
       "    <tr>\n",
       "      <th>2</th>\n",
       "      <td>1</td>\n",
       "      <td>754.159807</td>\n",
       "      <td>6</td>\n",
       "      <td>2021-04-20</td>\n",
       "      <td>4</td>\n",
       "      <td>Кира</td>\n",
       "      <td>22</td>\n",
       "      <td>Тюмень</td>\n",
       "      <td>ultra</td>\n",
       "      <td>6</td>\n",
       "      <td>0</td>\n",
       "      <td>199</td>\n",
       "    </tr>\n",
       "    <tr>\n",
       "      <th>3</th>\n",
       "      <td>1</td>\n",
       "      <td>2694.783254</td>\n",
       "      <td>19</td>\n",
       "      <td>2021-08-11</td>\n",
       "      <td>8</td>\n",
       "      <td>Кира</td>\n",
       "      <td>22</td>\n",
       "      <td>Тюмень</td>\n",
       "      <td>ultra</td>\n",
       "      <td>6</td>\n",
       "      <td>0</td>\n",
       "      <td>199</td>\n",
       "    </tr>\n",
       "    <tr>\n",
       "      <th>4</th>\n",
       "      <td>1</td>\n",
       "      <td>4028.687306</td>\n",
       "      <td>26</td>\n",
       "      <td>2021-08-28</td>\n",
       "      <td>8</td>\n",
       "      <td>Кира</td>\n",
       "      <td>22</td>\n",
       "      <td>Тюмень</td>\n",
       "      <td>ultra</td>\n",
       "      <td>6</td>\n",
       "      <td>0</td>\n",
       "      <td>199</td>\n",
       "    </tr>\n",
       "  </tbody>\n",
       "</table>\n",
       "</div>"
      ],
      "text/plain": [
       "   user_id     distance  duration       date  month  name  age    city  \\\n",
       "0        1  4409.919140        26 2021-01-01      1  Кира   22  Тюмень   \n",
       "1        1  2617.592153        16 2021-01-18      1  Кира   22  Тюмень   \n",
       "2        1   754.159807         6 2021-04-20      4  Кира   22  Тюмень   \n",
       "3        1  2694.783254        19 2021-08-11      8  Кира   22  Тюмень   \n",
       "4        1  4028.687306        26 2021-08-28      8  Кира   22  Тюмень   \n",
       "\n",
       "  subscription_type  minute_price  start_ride_price  subscription_fee  \n",
       "0             ultra             6                 0               199  \n",
       "1             ultra             6                 0               199  \n",
       "2             ultra             6                 0               199  \n",
       "3             ultra             6                 0               199  \n",
       "4             ultra             6                 0               199  "
      ]
     },
     "metadata": {},
     "output_type": "display_data"
    },
    {
     "name": "stdout",
     "output_type": "stream",
     "text": [
      "В полученном датафрейме 18068 строк и 12 столбцов.\n"
     ]
    }
   ],
   "source": [
    "# Выводим первые строки датафрейма\n",
    "display(df.head())\n",
    "\n",
    "# Выводим количество строк и столбцов в объединённом датафрейме\n",
    "n_rows, n_cols = df.shape\n",
    "#print (df.shape)\n",
    "print(f'В полученном датафрейме {n_rows} строк и {n_cols} столбцов.')"
   ]
  },
  {
   "cell_type": "markdown",
   "metadata": {
    "deletable": false,
    "editable": false,
    "id": "j4fAbR0dsK8E",
    "tags": [
     "start_task"
    ]
   },
   "source": [
    "### Задача 4.4 Отдельные датафреймы для пользователей с подпиской и без\n",
    "Создайте два вспомогательных датафрейма на основе `df`: первый только для пользователей с подпиской `df_ultra` и второй только для пользователей без подписки `df_free`. В следующих заданиях два этих датафрейма пригодятся при изучении поведения пользователей с подпиской и без, а также при проверке продуктовых гипотез."
   ]
  },
  {
   "cell_type": "code",
   "execution_count": 21,
   "metadata": {
    "deletable": false,
    "id": "sKY6MwNNosYg"
   },
   "outputs": [],
   "source": [
    "df_ultra = df[df['subscription_type'] == 'ultra']\n",
    "df_free = df[df['subscription_type'] == 'free']\n",
    "#display(df_free.head())"
   ]
  },
  {
   "cell_type": "markdown",
   "metadata": {
    "deletable": false,
    "editable": false,
    "id": "EsOUpiJ1sK8F",
    "tags": [
     "start_task"
    ]
   },
   "source": [
    "### Задача 4.5 Гистограмма длительности поездок для обоих групп\n",
    "На одном графике постройте гистограмму распределения длительности поездок `duration` для пользователей с подпиской и без.\n",
    "\n",
    "Что нужно сделать:\n",
    "\n",
    "1. Установить размер графика: 15 по горизонтали и 5 по вертикали. Использовать `plt.figure(figsize=(15, 5))`.\n",
    "2. Отобразить данные из столбца `duration` датафрейма `df_free` с помощью метода `hist()`, задав количество бинов `bins=30` и метку `label='free'`.\n",
    "3. Отобразить данные из столбца `duration` датафрейма `df_ultra` с помощью метода `hist()`, также задав количество бинов `bins=30` и метку `label='ultra'`.\n",
    "4. Установить подпись оси X как `'Длительность поездки, мин.'`, используя `plt.xlabel()`.\n",
    "5. Задать заголовок графика как `'Гистограмма распределения длительности поездок'` методом `plt.title()`.\n",
    "6. Добавить легенду для различения категорий на графике с использованием `plt.legend()`.\n",
    "7. Вызвать `plt.show()` для показа графика пользователю.\n",
    "\n",
    "Для удобства воспользуйтесь датафреймами, созданными на прошлом шаге, — `df_ultra` и `df_free`.\n",
    "\n",
    "Дополнительно рассчитайте среднюю длительность поездки для пользователей с подпиской и без, округлив ее до целых стандартной функцией `round` и распечатайте на экран при помощи шаблона."
   ]
  },
  {
   "cell_type": "code",
   "execution_count": 22,
   "metadata": {
    "deletable": false,
    "id": "qw6ZmTHspFbc"
   },
   "outputs": [
    {
     "data": {
      "image/png": "[encoded data removed]",
      "text/plain": [
       "<Figure size 1080x360 with 1 Axes>"
      ]
     },
     "metadata": {
      "needs_background": "light"
     },
     "output_type": "display_data"
    },
    {
     "name": "stdout",
     "output_type": "stream",
     "text": [
      "Средняя длительность поездки для пользователей без подписки 17 мин, а для пользователей с подпиской 19 мин\n"
     ]
    }
   ],
   "source": [
    "plt.figure(figsize=(15, 5))\n",
    "\n",
    "df_free['duration'].hist(bins = 30, label='free')\n",
    "df_ultra['duration'].hist(bins = 30, label='ultra') \n",
    "plt.title('Гистограмма распределения длительности поездок')\n",
    "plt.xlabel('Длительность поездки, мин.')\n",
    "plt.legend()\n",
    "plt.show()\n",
    "\n",
    "# Расчет и вывод на экран средней длительности поездки для пользователей с подпиской и без\n",
    "mean_duration_free = int(df_free['duration'].mean().round())\n",
    "mean_duration_ultra = int(df_ultra['duration'].mean().round())\n",
    "print(f'Средняя длительность поездки для пользователей без подписки {mean_duration_free} мин, а для пользователей с подпиской {mean_duration_ultra} мин')"
   ]
  },
  {
   "cell_type": "markdown",
   "metadata": {
    "deletable": false,
    "editable": false,
    "id": "oasgRJ_osK8G"
   },
   "source": [
    "---\n",
    "## Задание 5. Подсчёт выручки\n",
    "Данные о количестве и длительности поездок объединены с ценами и тарифами, а значит, теперь есть всё необходимое, чтобы рассчитать важный для бизнеса показатель — выручку."
   ]
  },
  {
   "cell_type": "markdown",
   "metadata": {
    "deletable": false,
    "editable": false,
    "id": "LVBMnLV0sK8G",
    "tags": [
     "start_task"
    ]
   },
   "source": [
    "### Задача 5.1 Данные сгруппированные по нужным колонкам\n",
    "Сгруппируйте данные по следующим столбцам: `user_id`, `name`, `subscription_type`, `month`. Группировку призводите в датафрейме `df_gp`. В итоговом датафрейме `df_gp` должен сохраниться порядок агрегации изначальных столбцов и не должны использоваться групповые индексы (опция `as_index=False`).\n"
   ]
  },
  {
   "cell_type": "code",
   "execution_count": 23,
   "metadata": {
    "deletable": false,
    "id": "Ij2VX1plpVQI"
   },
   "outputs": [
    {
     "data": {
      "text/html": [
       "<div>\n",
       "<style scoped>\n",
       "    .dataframe tbody tr th:only-of-type {\n",
       "        vertical-align: middle;\n",
       "    }\n",
       "\n",
       "    .dataframe tbody tr th {\n",
       "        vertical-align: top;\n",
       "    }\n",
       "\n",
       "    .dataframe thead th {\n",
       "        text-align: right;\n",
       "    }\n",
       "</style>\n",
       "<table border=\"1\" class=\"dataframe\">\n",
       "  <thead>\n",
       "    <tr style=\"text-align: right;\">\n",
       "      <th></th>\n",
       "      <th>user_id</th>\n",
       "      <th>distance</th>\n",
       "      <th>duration</th>\n",
       "      <th>date</th>\n",
       "      <th>month</th>\n",
       "      <th>name</th>\n",
       "      <th>age</th>\n",
       "      <th>city</th>\n",
       "      <th>subscription_type</th>\n",
       "      <th>minute_price</th>\n",
       "      <th>start_ride_price</th>\n",
       "      <th>subscription_fee</th>\n",
       "    </tr>\n",
       "  </thead>\n",
       "  <tbody>\n",
       "    <tr>\n",
       "      <th>0</th>\n",
       "      <td>1</td>\n",
       "      <td>4409.919140</td>\n",
       "      <td>26</td>\n",
       "      <td>2021-01-01</td>\n",
       "      <td>1</td>\n",
       "      <td>Кира</td>\n",
       "      <td>22</td>\n",
       "      <td>Тюмень</td>\n",
       "      <td>ultra</td>\n",
       "      <td>6</td>\n",
       "      <td>0</td>\n",
       "      <td>199</td>\n",
       "    </tr>\n",
       "    <tr>\n",
       "      <th>1</th>\n",
       "      <td>1</td>\n",
       "      <td>2617.592153</td>\n",
       "      <td>16</td>\n",
       "      <td>2021-01-18</td>\n",
       "      <td>1</td>\n",
       "      <td>Кира</td>\n",
       "      <td>22</td>\n",
       "      <td>Тюмень</td>\n",
       "      <td>ultra</td>\n",
       "      <td>6</td>\n",
       "      <td>0</td>\n",
       "      <td>199</td>\n",
       "    </tr>\n",
       "    <tr>\n",
       "      <th>2</th>\n",
       "      <td>1</td>\n",
       "      <td>754.159807</td>\n",
       "      <td>6</td>\n",
       "      <td>2021-04-20</td>\n",
       "      <td>4</td>\n",
       "      <td>Кира</td>\n",
       "      <td>22</td>\n",
       "      <td>Тюмень</td>\n",
       "      <td>ultra</td>\n",
       "      <td>6</td>\n",
       "      <td>0</td>\n",
       "      <td>199</td>\n",
       "    </tr>\n",
       "    <tr>\n",
       "      <th>3</th>\n",
       "      <td>1</td>\n",
       "      <td>2694.783254</td>\n",
       "      <td>19</td>\n",
       "      <td>2021-08-11</td>\n",
       "      <td>8</td>\n",
       "      <td>Кира</td>\n",
       "      <td>22</td>\n",
       "      <td>Тюмень</td>\n",
       "      <td>ultra</td>\n",
       "      <td>6</td>\n",
       "      <td>0</td>\n",
       "      <td>199</td>\n",
       "    </tr>\n",
       "    <tr>\n",
       "      <th>4</th>\n",
       "      <td>1</td>\n",
       "      <td>4028.687306</td>\n",
       "      <td>26</td>\n",
       "      <td>2021-08-28</td>\n",
       "      <td>8</td>\n",
       "      <td>Кира</td>\n",
       "      <td>22</td>\n",
       "      <td>Тюмень</td>\n",
       "      <td>ultra</td>\n",
       "      <td>6</td>\n",
       "      <td>0</td>\n",
       "      <td>199</td>\n",
       "    </tr>\n",
       "    <tr>\n",
       "      <th>...</th>\n",
       "      <td>...</td>\n",
       "      <td>...</td>\n",
       "      <td>...</td>\n",
       "      <td>...</td>\n",
       "      <td>...</td>\n",
       "      <td>...</td>\n",
       "      <td>...</td>\n",
       "      <td>...</td>\n",
       "      <td>...</td>\n",
       "      <td>...</td>\n",
       "      <td>...</td>\n",
       "      <td>...</td>\n",
       "    </tr>\n",
       "    <tr>\n",
       "      <th>18063</th>\n",
       "      <td>1534</td>\n",
       "      <td>3781.098080</td>\n",
       "      <td>20</td>\n",
       "      <td>2021-11-04</td>\n",
       "      <td>11</td>\n",
       "      <td>Альберт</td>\n",
       "      <td>25</td>\n",
       "      <td>Краснодар</td>\n",
       "      <td>free</td>\n",
       "      <td>8</td>\n",
       "      <td>50</td>\n",
       "      <td>0</td>\n",
       "    </tr>\n",
       "    <tr>\n",
       "      <th>18064</th>\n",
       "      <td>1534</td>\n",
       "      <td>2840.423057</td>\n",
       "      <td>21</td>\n",
       "      <td>2021-11-16</td>\n",
       "      <td>11</td>\n",
       "      <td>Альберт</td>\n",
       "      <td>25</td>\n",
       "      <td>Краснодар</td>\n",
       "      <td>free</td>\n",
       "      <td>8</td>\n",
       "      <td>50</td>\n",
       "      <td>0</td>\n",
       "    </tr>\n",
       "    <tr>\n",
       "      <th>18065</th>\n",
       "      <td>1534</td>\n",
       "      <td>3826.185507</td>\n",
       "      <td>18</td>\n",
       "      <td>2021-11-18</td>\n",
       "      <td>11</td>\n",
       "      <td>Альберт</td>\n",
       "      <td>25</td>\n",
       "      <td>Краснодар</td>\n",
       "      <td>free</td>\n",
       "      <td>8</td>\n",
       "      <td>50</td>\n",
       "      <td>0</td>\n",
       "    </tr>\n",
       "    <tr>\n",
       "      <th>18066</th>\n",
       "      <td>1534</td>\n",
       "      <td>2902.308661</td>\n",
       "      <td>17</td>\n",
       "      <td>2021-11-27</td>\n",
       "      <td>11</td>\n",
       "      <td>Альберт</td>\n",
       "      <td>25</td>\n",
       "      <td>Краснодар</td>\n",
       "      <td>free</td>\n",
       "      <td>8</td>\n",
       "      <td>50</td>\n",
       "      <td>0</td>\n",
       "    </tr>\n",
       "    <tr>\n",
       "      <th>18067</th>\n",
       "      <td>1534</td>\n",
       "      <td>2371.711192</td>\n",
       "      <td>16</td>\n",
       "      <td>2021-12-29</td>\n",
       "      <td>12</td>\n",
       "      <td>Альберт</td>\n",
       "      <td>25</td>\n",
       "      <td>Краснодар</td>\n",
       "      <td>free</td>\n",
       "      <td>8</td>\n",
       "      <td>50</td>\n",
       "      <td>0</td>\n",
       "    </tr>\n",
       "  </tbody>\n",
       "</table>\n",
       "<p>18056 rows × 12 columns</p>\n",
       "</div>"
      ],
      "text/plain": [
       "       user_id     distance  duration       date  month     name  age  \\\n",
       "0            1  4409.919140        26 2021-01-01      1     Кира   22   \n",
       "1            1  2617.592153        16 2021-01-18      1     Кира   22   \n",
       "2            1   754.159807         6 2021-04-20      4     Кира   22   \n",
       "3            1  2694.783254        19 2021-08-11      8     Кира   22   \n",
       "4            1  4028.687306        26 2021-08-28      8     Кира   22   \n",
       "...        ...          ...       ...        ...    ...      ...  ...   \n",
       "18063     1534  3781.098080        20 2021-11-04     11  Альберт   25   \n",
       "18064     1534  2840.423057        21 2021-11-16     11  Альберт   25   \n",
       "18065     1534  3826.185507        18 2021-11-18     11  Альберт   25   \n",
       "18066     1534  2902.308661        17 2021-11-27     11  Альберт   25   \n",
       "18067     1534  2371.711192        16 2021-12-29     12  Альберт   25   \n",
       "\n",
       "            city subscription_type  minute_price  start_ride_price  \\\n",
       "0         Тюмень             ultra             6                 0   \n",
       "1         Тюмень             ultra             6                 0   \n",
       "2         Тюмень             ultra             6                 0   \n",
       "3         Тюмень             ultra             6                 0   \n",
       "4         Тюмень             ultra             6                 0   \n",
       "...          ...               ...           ...               ...   \n",
       "18063  Краснодар              free             8                50   \n",
       "18064  Краснодар              free             8                50   \n",
       "18065  Краснодар              free             8                50   \n",
       "18066  Краснодар              free             8                50   \n",
       "18067  Краснодар              free             8                50   \n",
       "\n",
       "       subscription_fee  \n",
       "0                   199  \n",
       "1                   199  \n",
       "2                   199  \n",
       "3                   199  \n",
       "4                   199  \n",
       "...                 ...  \n",
       "18063                 0  \n",
       "18064                 0  \n",
       "18065                 0  \n",
       "18066                 0  \n",
       "18067                 0  \n",
       "\n",
       "[18056 rows x 12 columns]"
      ]
     },
     "metadata": {},
     "output_type": "display_data"
    }
   ],
   "source": [
    "df_gp = df.groupby(['user_id','name', 'subscription_type', 'month'], as_index=False)\n",
    "display(df_gp.head())"
   ]
  },
  {
   "cell_type": "markdown",
   "metadata": {
    "deletable": false,
    "editable": false,
    "id": "UVBq7IWjsK8H",
    "tags": [
     "start_task"
    ]
   },
   "source": [
    "### Задача 5.2 Подсчёт агрегированных метрик\n",
    "Создайте новый датафрейм `df_agg`. В нём для каждой группы рассчитайте и добавьте в датафрейм следующие агрегированные значения, используя метод `agg()`:\n",
    "- `total_distance` — сумма значений в столбце `distance`.\n",
    "- `total_duration` — сумма значений в столбце `duration`.\n",
    "- `rides_count` — количество элементов в столбце `duration`.\n",
    "- `subscription_type` — первое значение в группе для столбца `subscription_type`.\n",
    "- `minute_price` — первое значение в группе для столбца `minute_price`.\n",
    "- `start_ride_price` — первое значение в группе для столбца `start_ride_price`.\n",
    "- `subscription_fee` — первое значение в группе для столбца `subscription_fee`."
   ]
  },
  {
   "cell_type": "markdown",
   "metadata": {
    "deletable": false,
    "editable": false,
    "id": "p5MR_VMxNHKs"
   },
   "source": [
    "<details>\n",
    "<summary>Открыть подсказку</summary>\n",
    "В этом задании удобнее всего сделать агрегацию с использованием кортежей.\n",
    "</details>"
   ]
  },
  {
   "cell_type": "code",
   "execution_count": 24,
   "metadata": {
    "deletable": false,
    "id": "8NEOkiIONXHF"
   },
   "outputs": [
    {
     "data": {
      "text/html": [
       "<div>\n",
       "<style scoped>\n",
       "    .dataframe tbody tr th:only-of-type {\n",
       "        vertical-align: middle;\n",
       "    }\n",
       "\n",
       "    .dataframe tbody tr th {\n",
       "        vertical-align: top;\n",
       "    }\n",
       "\n",
       "    .dataframe thead th {\n",
       "        text-align: right;\n",
       "    }\n",
       "</style>\n",
       "<table border=\"1\" class=\"dataframe\">\n",
       "  <thead>\n",
       "    <tr style=\"text-align: right;\">\n",
       "      <th></th>\n",
       "      <th>user_id</th>\n",
       "      <th>name</th>\n",
       "      <th>month</th>\n",
       "      <th>total_distance</th>\n",
       "      <th>total_duration</th>\n",
       "      <th>rides_count</th>\n",
       "      <th>subscription_type</th>\n",
       "      <th>minute_price</th>\n",
       "      <th>start_ride_price</th>\n",
       "      <th>subscription_fee</th>\n",
       "    </tr>\n",
       "  </thead>\n",
       "  <tbody>\n",
       "    <tr>\n",
       "      <th>0</th>\n",
       "      <td>1</td>\n",
       "      <td>Кира</td>\n",
       "      <td>1</td>\n",
       "      <td>7027.511294</td>\n",
       "      <td>42</td>\n",
       "      <td>2</td>\n",
       "      <td>ultra</td>\n",
       "      <td>6</td>\n",
       "      <td>0</td>\n",
       "      <td>199</td>\n",
       "    </tr>\n",
       "    <tr>\n",
       "      <th>1</th>\n",
       "      <td>1</td>\n",
       "      <td>Кира</td>\n",
       "      <td>4</td>\n",
       "      <td>754.159807</td>\n",
       "      <td>6</td>\n",
       "      <td>1</td>\n",
       "      <td>ultra</td>\n",
       "      <td>6</td>\n",
       "      <td>0</td>\n",
       "      <td>199</td>\n",
       "    </tr>\n",
       "    <tr>\n",
       "      <th>2</th>\n",
       "      <td>1</td>\n",
       "      <td>Кира</td>\n",
       "      <td>8</td>\n",
       "      <td>6723.470560</td>\n",
       "      <td>45</td>\n",
       "      <td>2</td>\n",
       "      <td>ultra</td>\n",
       "      <td>6</td>\n",
       "      <td>0</td>\n",
       "      <td>199</td>\n",
       "    </tr>\n",
       "    <tr>\n",
       "      <th>3</th>\n",
       "      <td>1</td>\n",
       "      <td>Кира</td>\n",
       "      <td>10</td>\n",
       "      <td>5809.911100</td>\n",
       "      <td>32</td>\n",
       "      <td>2</td>\n",
       "      <td>ultra</td>\n",
       "      <td>6</td>\n",
       "      <td>0</td>\n",
       "      <td>199</td>\n",
       "    </tr>\n",
       "    <tr>\n",
       "      <th>4</th>\n",
       "      <td>1</td>\n",
       "      <td>Кира</td>\n",
       "      <td>11</td>\n",
       "      <td>7003.499363</td>\n",
       "      <td>53</td>\n",
       "      <td>3</td>\n",
       "      <td>ultra</td>\n",
       "      <td>6</td>\n",
       "      <td>0</td>\n",
       "      <td>199</td>\n",
       "    </tr>\n",
       "    <tr>\n",
       "      <th>...</th>\n",
       "      <td>...</td>\n",
       "      <td>...</td>\n",
       "      <td>...</td>\n",
       "      <td>...</td>\n",
       "      <td>...</td>\n",
       "      <td>...</td>\n",
       "      <td>...</td>\n",
       "      <td>...</td>\n",
       "      <td>...</td>\n",
       "      <td>...</td>\n",
       "    </tr>\n",
       "    <tr>\n",
       "      <th>11326</th>\n",
       "      <td>1534</td>\n",
       "      <td>Альберт</td>\n",
       "      <td>6</td>\n",
       "      <td>3409.468534</td>\n",
       "      <td>24</td>\n",
       "      <td>2</td>\n",
       "      <td>free</td>\n",
       "      <td>8</td>\n",
       "      <td>50</td>\n",
       "      <td>0</td>\n",
       "    </tr>\n",
       "    <tr>\n",
       "      <th>11327</th>\n",
       "      <td>1534</td>\n",
       "      <td>Альберт</td>\n",
       "      <td>8</td>\n",
       "      <td>7622.453034</td>\n",
       "      <td>47</td>\n",
       "      <td>2</td>\n",
       "      <td>free</td>\n",
       "      <td>8</td>\n",
       "      <td>50</td>\n",
       "      <td>0</td>\n",
       "    </tr>\n",
       "    <tr>\n",
       "      <th>11328</th>\n",
       "      <td>1534</td>\n",
       "      <td>Альберт</td>\n",
       "      <td>9</td>\n",
       "      <td>4928.173852</td>\n",
       "      <td>23</td>\n",
       "      <td>1</td>\n",
       "      <td>free</td>\n",
       "      <td>8</td>\n",
       "      <td>50</td>\n",
       "      <td>0</td>\n",
       "    </tr>\n",
       "    <tr>\n",
       "      <th>11329</th>\n",
       "      <td>1534</td>\n",
       "      <td>Альберт</td>\n",
       "      <td>11</td>\n",
       "      <td>13350.015305</td>\n",
       "      <td>76</td>\n",
       "      <td>4</td>\n",
       "      <td>free</td>\n",
       "      <td>8</td>\n",
       "      <td>50</td>\n",
       "      <td>0</td>\n",
       "    </tr>\n",
       "    <tr>\n",
       "      <th>11330</th>\n",
       "      <td>1534</td>\n",
       "      <td>Альберт</td>\n",
       "      <td>12</td>\n",
       "      <td>2371.711192</td>\n",
       "      <td>16</td>\n",
       "      <td>1</td>\n",
       "      <td>free</td>\n",
       "      <td>8</td>\n",
       "      <td>50</td>\n",
       "      <td>0</td>\n",
       "    </tr>\n",
       "  </tbody>\n",
       "</table>\n",
       "<p>11331 rows × 10 columns</p>\n",
       "</div>"
      ],
      "text/plain": [
       "       user_id     name  month  total_distance  total_duration  rides_count  \\\n",
       "0            1     Кира      1     7027.511294              42            2   \n",
       "1            1     Кира      4      754.159807               6            1   \n",
       "2            1     Кира      8     6723.470560              45            2   \n",
       "3            1     Кира     10     5809.911100              32            2   \n",
       "4            1     Кира     11     7003.499363              53            3   \n",
       "...        ...      ...    ...             ...             ...          ...   \n",
       "11326     1534  Альберт      6     3409.468534              24            2   \n",
       "11327     1534  Альберт      8     7622.453034              47            2   \n",
       "11328     1534  Альберт      9     4928.173852              23            1   \n",
       "11329     1534  Альберт     11    13350.015305              76            4   \n",
       "11330     1534  Альберт     12     2371.711192              16            1   \n",
       "\n",
       "      subscription_type  minute_price  start_ride_price  subscription_fee  \n",
       "0                 ultra             6                 0               199  \n",
       "1                 ultra             6                 0               199  \n",
       "2                 ultra             6                 0               199  \n",
       "3                 ultra             6                 0               199  \n",
       "4                 ultra             6                 0               199  \n",
       "...                 ...           ...               ...               ...  \n",
       "11326              free             8                50                 0  \n",
       "11327              free             8                50                 0  \n",
       "11328              free             8                50                 0  \n",
       "11329              free             8                50                 0  \n",
       "11330              free             8                50                 0  \n",
       "\n",
       "[11331 rows x 10 columns]"
      ]
     },
     "metadata": {},
     "output_type": "display_data"
    }
   ],
   "source": [
    "df_agg = df_gp.agg(\n",
    "total_distance = ('distance', 'sum'),\n",
    "total_duration = ('duration','sum'),\n",
    "rides_count = ('duration','count'),\n",
    "subscription_type = ('subscription_type','first'),\n",
    "minute_price = ('minute_price','first'),\n",
    "start_ride_price = ('start_ride_price','first'),\n",
    "subscription_fee = ('subscription_fee','first')\n",
    ")\n",
    "\n",
    "display(df_agg)\n",
    "    \n"
   ]
  },
  {
   "cell_type": "markdown",
   "metadata": {
    "deletable": false,
    "editable": false,
    "id": "l6uH5vWSsK8H",
    "tags": [
     "start_task"
    ]
   },
   "source": [
    "### Задача 5.3 Функция для подсчёта выручки\n",
    "Создайте функцию `calculate_monthly_revenue(row)` для расчёта месячной выручки по формуле:\n",
    "\n",
    "`monthly_revenue` = `start_ride_price` * `rides_count` + `minute_price` * `total_duration` + `subscription_fee`\n",
    "\n",
    "В качестве входных данных функция будет принимать одну строку `row` датафрейма. Вспомните, как в таком случае обращаться к каждой колонке.\n",
    "\n",
    "Здесь:\n",
    "- `start_ride_price * rides_count` — выручка от начала каждой поездки.\n",
    "- `minute_price * total_duration` — выручка за время использования.\n",
    "- `subscription_fee` — фиксированная выручка от подписок."
   ]
  },
  {
   "cell_type": "code",
   "execution_count": 25,
   "metadata": {
    "deletable": false,
    "id": "4nzdjVb8qDds"
   },
   "outputs": [],
   "source": [
    "def calculate_monthly_revenue(row):\n",
    "    monthly_revenue = row['start_ride_price'] * row['rides_count'] + row['minute_price'] * row['total_duration'] + row['subscription_fee']\n",
    "    return monthly_revenue\n",
    "\n"
   ]
  },
  {
   "cell_type": "markdown",
   "metadata": {
    "deletable": false,
    "editable": false,
    "id": "bH0zftBAsK8I",
    "tags": [
     "start_task"
    ]
   },
   "source": [
    "### Задача 5.4 Создание столбца с месячной выручкой на пользователя\n",
    "Создайте новый столбец с месячной выручкой на пользователя `monthly_revenue`. Для этого примените функцию `calculate_monthly_revenue(row)` к каждой строке агрегированного датафрейма `df_agg`."
   ]
  },
  {
   "cell_type": "code",
   "execution_count": 26,
   "metadata": {
    "deletable": false,
    "id": "iUo_b7nmqVL3"
   },
   "outputs": [
    {
     "data": {
      "text/html": [
       "<div>\n",
       "<style scoped>\n",
       "    .dataframe tbody tr th:only-of-type {\n",
       "        vertical-align: middle;\n",
       "    }\n",
       "\n",
       "    .dataframe tbody tr th {\n",
       "        vertical-align: top;\n",
       "    }\n",
       "\n",
       "    .dataframe thead th {\n",
       "        text-align: right;\n",
       "    }\n",
       "</style>\n",
       "<table border=\"1\" class=\"dataframe\">\n",
       "  <thead>\n",
       "    <tr style=\"text-align: right;\">\n",
       "      <th></th>\n",
       "      <th>user_id</th>\n",
       "      <th>name</th>\n",
       "      <th>month</th>\n",
       "      <th>total_distance</th>\n",
       "      <th>total_duration</th>\n",
       "      <th>rides_count</th>\n",
       "      <th>subscription_type</th>\n",
       "      <th>minute_price</th>\n",
       "      <th>start_ride_price</th>\n",
       "      <th>subscription_fee</th>\n",
       "      <th>monthly_revenue</th>\n",
       "    </tr>\n",
       "  </thead>\n",
       "  <tbody>\n",
       "    <tr>\n",
       "      <th>0</th>\n",
       "      <td>1</td>\n",
       "      <td>Кира</td>\n",
       "      <td>1</td>\n",
       "      <td>7027.511294</td>\n",
       "      <td>42</td>\n",
       "      <td>2</td>\n",
       "      <td>ultra</td>\n",
       "      <td>6</td>\n",
       "      <td>0</td>\n",
       "      <td>199</td>\n",
       "      <td>451</td>\n",
       "    </tr>\n",
       "    <tr>\n",
       "      <th>1</th>\n",
       "      <td>1</td>\n",
       "      <td>Кира</td>\n",
       "      <td>4</td>\n",
       "      <td>754.159807</td>\n",
       "      <td>6</td>\n",
       "      <td>1</td>\n",
       "      <td>ultra</td>\n",
       "      <td>6</td>\n",
       "      <td>0</td>\n",
       "      <td>199</td>\n",
       "      <td>235</td>\n",
       "    </tr>\n",
       "    <tr>\n",
       "      <th>2</th>\n",
       "      <td>1</td>\n",
       "      <td>Кира</td>\n",
       "      <td>8</td>\n",
       "      <td>6723.470560</td>\n",
       "      <td>45</td>\n",
       "      <td>2</td>\n",
       "      <td>ultra</td>\n",
       "      <td>6</td>\n",
       "      <td>0</td>\n",
       "      <td>199</td>\n",
       "      <td>469</td>\n",
       "    </tr>\n",
       "    <tr>\n",
       "      <th>3</th>\n",
       "      <td>1</td>\n",
       "      <td>Кира</td>\n",
       "      <td>10</td>\n",
       "      <td>5809.911100</td>\n",
       "      <td>32</td>\n",
       "      <td>2</td>\n",
       "      <td>ultra</td>\n",
       "      <td>6</td>\n",
       "      <td>0</td>\n",
       "      <td>199</td>\n",
       "      <td>391</td>\n",
       "    </tr>\n",
       "    <tr>\n",
       "      <th>4</th>\n",
       "      <td>1</td>\n",
       "      <td>Кира</td>\n",
       "      <td>11</td>\n",
       "      <td>7003.499363</td>\n",
       "      <td>53</td>\n",
       "      <td>3</td>\n",
       "      <td>ultra</td>\n",
       "      <td>6</td>\n",
       "      <td>0</td>\n",
       "      <td>199</td>\n",
       "      <td>517</td>\n",
       "    </tr>\n",
       "  </tbody>\n",
       "</table>\n",
       "</div>"
      ],
      "text/plain": [
       "   user_id  name  month  total_distance  total_duration  rides_count  \\\n",
       "0        1  Кира      1     7027.511294              42            2   \n",
       "1        1  Кира      4      754.159807               6            1   \n",
       "2        1  Кира      8     6723.470560              45            2   \n",
       "3        1  Кира     10     5809.911100              32            2   \n",
       "4        1  Кира     11     7003.499363              53            3   \n",
       "\n",
       "  subscription_type  minute_price  start_ride_price  subscription_fee  \\\n",
       "0             ultra             6                 0               199   \n",
       "1             ultra             6                 0               199   \n",
       "2             ultra             6                 0               199   \n",
       "3             ultra             6                 0               199   \n",
       "4             ultra             6                 0               199   \n",
       "\n",
       "   monthly_revenue  \n",
       "0              451  \n",
       "1              235  \n",
       "2              469  \n",
       "3              391  \n",
       "4              517  "
      ]
     },
     "metadata": {},
     "output_type": "display_data"
    }
   ],
   "source": [
    "df_agg['monthly_revenue'] = df_agg.apply(calculate_monthly_revenue, axis = 1)\n",
    "display(df_agg.head())"
   ]
  },
  {
   "cell_type": "markdown",
   "metadata": {
    "deletable": false,
    "editable": false,
    "id": "HTbnNX3msK8I",
    "tags": [
     "start_task"
    ]
   },
   "source": [
    "### Задача 5.5 Поиск пользователя с максимальной выручкой\n",
    "Исследуйте полученные значения выручки. Найдите пользователя с максимальной суммарной выручкой за весь период наблюдения и для него выведите на экран `user_id`, имя, месяц, количество поездок и выручку за каждый из месяцев."
   ]
  },
  {
   "cell_type": "markdown",
   "metadata": {
    "deletable": false,
    "editable": false,
    "id": "ORj5Kf9EPYno"
   },
   "source": [
    "<details>\n",
    "<summary>Открыть подсказку</summary>\n",
    "Для найденного пользователя выведите колонки <code>user_id</code>, <code>name</code>, <code>month</code>, <code>rides_count</code>, <code>monthly_revenue</code>.\n",
    "</details>"
   ]
  },
  {
   "cell_type": "code",
   "execution_count": 27,
   "metadata": {
    "deletable": false,
    "id": "G93dZkJgqozi"
   },
   "outputs": [
    {
     "name": "stdout",
     "output_type": "stream",
     "text": [
      "      user_id       name  month  rides_count  monthly_revenue\n",
      "8877     1236  Александр      1            2              228\n",
      "8878     1236  Александр      2            3              614\n",
      "8879     1236  Александр      3            5              762\n",
      "8880     1236  Александр      4            1              202\n",
      "8881     1236  Александр      5            3              574\n",
      "8882     1236  Александр      6            1              282\n",
      "8883     1236  Александр      7            1              290\n",
      "8884     1236  Александр      8            2              452\n",
      "8885     1236  Александр      9            1              122\n",
      "8886     1236  Александр     10            3              430\n",
      "8887     1236  Александр     11            3              494\n",
      "8888     1236  Александр     12            2              476\n"
     ]
    }
   ],
   "source": [
    "revenue_user = df_agg.groupby(['user_id','name'])['monthly_revenue'].sum().reset_index()\n",
    "\n",
    "\n",
    "max_revenue_id = revenue_user.loc[revenue_user['monthly_revenue'].idxmax()]\n",
    "#print(max_revenue_id[0])\n",
    "\n",
    "\n",
    "max_revenue_user = df_agg.loc[df_agg['user_id'] == max_revenue_id[0]]\n",
    "#max_revenue_user = max_revenue_user.reset_index()\n",
    "print(max_revenue_user[['user_id','name','month','rides_count','monthly_revenue']])\n",
    "\n"
   ]
  },
  {
   "cell_type": "markdown",
   "metadata": {
    "deletable": false,
    "editable": false,
    "id": "pTYLbBZEsK8J"
   },
   "source": [
    "---\n",
    "## Задание 6. Проверка гипотез"
   ]
  },
  {
   "cell_type": "markdown",
   "metadata": {
    "deletable": false,
    "editable": false,
    "id": "W4q8-WRDsK8J",
    "tags": [
     "start_task"
    ]
   },
   "source": [
    "### Задача 6.1 Импорт библиотеки SciPy\n",
    "Импортируйте библиотеку `scipy.stats` с сокращением `st`."
   ]
  },
  {
   "cell_type": "code",
   "execution_count": 28,
   "metadata": {
    "deletable": false,
    "id": "zyNhaTb8q5JY"
   },
   "outputs": [],
   "source": [
    "import scipy.stats as st"
   ]
  },
  {
   "cell_type": "markdown",
   "metadata": {
    "deletable": false,
    "editable": false,
    "id": "kiNRoB5zsK8K",
    "tags": [
     "start_task"
    ]
   },
   "source": [
    "### Задача 6.2 Вспомогательная функция для интерпретации результатов\n",
    "Напишите вспомогательную функцию `print_stattest_results(p_value, alpha)`, которая будет интерпретировать результаты статистического теста на основе p-value и заданного уровня значимости (α-уровня). Функция должна решать, следует ли принять альтернативную гипотезу или сохранить нулевую гипотезу.\n",
    "\n",
    "У функции два параметра:\n",
    "- `p_value` (тип `float`) — значение p-value, полученное в результате выполнения статистического теста.\n",
    "- `alpha` (тип `float`, необязательный, по умолчанию `alpha = 0.05`) — уровень значимости статистического теста, который используется как порог для принятия решения об отклонении нулевой гипотезы.\n",
    "\n",
    "Если вы принимаете альтернативную гипотезу, нужно вывести сообщение:\n",
    "`'Полученное значение p_value=<Введённое значение p_value> меньше критического уровня alpha=0.05. Принимаем альтернативную гипотезу.'`\n",
    "\n",
    "Если вы не можете опровергнуть нулевую гипотезу, нужно вывести сообщение: `'Полученное значение p_value=<Введённое значение p_value> больше критического уровня alpha=0.05. Опровергнуть нулевую гипотезу нельзя.'`\n",
    "\n",
    "Вызовите функцию для `p_value = 0.0001` и `p_value = 0.1`."
   ]
  },
  {
   "cell_type": "markdown",
   "metadata": {
    "deletable": false,
    "editable": false,
    "id": "DuKe7ipRQQoN"
   },
   "source": [
    "<details>\n",
    "<summary>Открыть подсказку</summary>\n",
    "В этом задании вам пригодятся знания f-строк из прошлых спринтов. Например, такой код позволит вам легко и красиво отформатировать и вывести переменную <code>x</code> — <code>print(f'Значение {x=}.')</code>.\n",
    "</details>"
   ]
  },
  {
   "cell_type": "code",
   "execution_count": 29,
   "metadata": {
    "deletable": false,
    "id": "xRuwp-yeQwTD"
   },
   "outputs": [
    {
     "name": "stdout",
     "output_type": "stream",
     "text": [
      "Полученное значение p_value=0.0001 меньше критического уровня alpha=0.05. Принимаем альтернативную гипотезу.\n",
      "Полученное значение p_value=0.1 больше критического уровня alpha=0.05. Опровергнуть нулевую гипотезу нельзя.\n"
     ]
    }
   ],
   "source": [
    "def print_stattest_results(p_value:float, alpha:float = 0.05):\n",
    "    if p_value < alpha:\n",
    "        print(f'Полученное значение p_value={p_value} меньше критического уровня alpha={alpha}. Принимаем альтернативную гипотезу.')\n",
    "    else:    \n",
    "        print(f'Полученное значение p_value={p_value} больше критического уровня alpha={alpha}. Опровергнуть нулевую гипотезу нельзя.')\n",
    "    \n",
    "print_stattest_results(p_value=0.0001)\n",
    "print_stattest_results(p_value=0.1)"
   ]
  },
  {
   "cell_type": "markdown",
   "metadata": {
    "deletable": false,
    "editable": false,
    "id": "6sLXAPjjsK8K",
    "tags": [
     "start_task"
    ]
   },
   "source": [
    "### Задача 6.3 Длительность для пользователей с подпиской и без\n",
    "\n",
    "Важно понять, тратят ли пользователи с подпиской больше времени на поездки? Сформулируем нулевую и альтернативную гипотезы:\n",
    "- Нулевая гипотеза (Н0): Среднее время поездки у пользователей с подпиской и без подписки одинаковое.\n",
    "- Альтернативная гипотеза (Н1): Среднее время поездки у пользователей с подпиской больше, чем у пользователей без подписки.\n",
    "\n",
    "Чтобы проверить эту гипотезу:\n",
    "1. Используйте неагрегированные данные из датафреймов `df_ultra` и `df_free`, созданные на одном из прошлых шагов.\n",
    "2. Используйте данные о продолжительности каждой поездки `duration` — отдельно для подписчиков и тех, у кого нет подписки.\n",
    "3. Рассчитайте значение `p_value` для выбранной гипотезы, используя функции модуля `scipy.stats` и односторонний t-тест.\n",
    "4. В качестве результата вызовите написанную функцию `print_stattest_results(p_value, alpha)`, передав ей рассчитанное значение `p_value`.\n",
    "5. В конце дополнительно рассчитайте среднюю длительность поездки для тарифов `ultra` и `free`, округлив её до двух знаков после точки стандартной функцией `round()`."
   ]
  },
  {
   "cell_type": "code",
   "execution_count": 30,
   "metadata": {
    "deletable": false,
    "id": "DJ1nCMZQRfFX"
   },
   "outputs": [
    {
     "name": "stdout",
     "output_type": "stream",
     "text": [
      "Полученное значение p_value=3.1600689435611813e-35 меньше критического уровня alpha=0.05. Принимаем альтернативную гипотезу.\n",
      "Средняя длительность поездки тарифа Ultra 18.55\n",
      "Средняя длительность поездки тарифа Free 17.39\n"
     ]
    }
   ],
   "source": [
    "\n",
    "ultra_duration = df_ultra['duration']\n",
    "free_duration = df_free['duration']\n",
    "#display(ultra_duration, free_duration)\n",
    "alpha = 0.05\n",
    "\n",
    "\n",
    "results = st.ttest_ind(ultra_duration, free_duration, alternative='greater') # Укажите подходящий инструмент здесь\n",
    "p_value = results.pvalue\n",
    "\n",
    "print_stattest_results(p_value)\n",
    "ultra_mean_duration = round(df_ultra['duration'].mean(), 2)\n",
    "free_mean_duration = round(df_free['duration'].mean(), 2)\n",
    "\n",
    "print(f'Средняя длительность поездки тарифа Ultra {ultra_mean_duration}')\n",
    "print(f'Средняя длительность поездки тарифа Free {free_mean_duration}')"
   ]
  },
  {
   "cell_type": "markdown",
   "metadata": {
    "deletable": false,
    "editable": false,
    "id": "HLlf6BYfsK8L",
    "tags": [
     "start_task"
    ]
   },
   "source": [
    "### Задача 6.4 Длительность поездки: больше или меньше критического значения\n",
    "\n",
    "Проанализируйте ещё одну важную продуктовую гипотезу. Расстояние одной поездки в 3130 метров — оптимальное с точки зрения износа самоката. Можно ли сказать, что расстояние, которое проезжают пользователи с подпиской за одну поездку, меньше 3130 метров?\n",
    "\n",
    "Сформулируем нулевую и альтернативную гипотезы:\n",
    "\n",
    "- Нулевая гипотеза (Н0): Средняя дистанция поездки у пользователей с подпиской равна 3130 м.\n",
    "\n",
    "- Альтернативная гипотеза (Н1): Средняя дистанция поездки у пользователей с подпиской больше 3130 м.\n",
    "\n",
    "Чтобы проверить эту гипотезу:\n",
    "\n",
    "1. Используйте неагрегированные данные о каждой поездке пользователей с подпиской из датафрейма `df_ultra`.\n",
    "\n",
    "2. Используйте данные о дистанции каждой поездки `distance`.\n",
    "\n",
    "3. Рассчитайте значение `p_value` для выбранной гипотезы, используя функции модуля `scipy.stats` и односторонний t-тест. Подумайте, как применить эту функцию, если необходимо проверить равенство с одним значением.\n",
    "\n",
    "4. В качестве результата вызовите написанную функцию `print_stattest_results(p_value, alpha)`, передав ей рассчитанное значение `p_value`."
   ]
  },
  {
   "cell_type": "code",
   "execution_count": 31,
   "metadata": {
    "deletable": false,
    "id": "sXgKlO-bSJI-"
   },
   "outputs": [
    {
     "name": "stdout",
     "output_type": "stream",
     "text": [
      "Полученное значение p_value=0.9195368847849785 больше критического уровня alpha=0.05. Опровергнуть нулевую гипотезу нельзя.\n"
     ]
    }
   ],
   "source": [
    "null_hypothesis = 3130\n",
    "ultra_distance = df_ultra['distance']\n",
    "\n",
    "results = st.ttest_1samp(ultra_distance, null_hypothesis, alternative='greater') # Укажите подходящий инструмент здесь\n",
    "p_value = results.pvalue\n",
    "print_stattest_results(p_value)"
   ]
  },
  {
   "cell_type": "markdown",
   "metadata": {
    "deletable": false,
    "editable": false,
    "id": "5TmnT74FsK8L",
    "tags": [
     "start_task"
    ]
   },
   "source": [
    "### Задача 6.5 Прибыль от пользователей с подпиской и без\n",
    "Проверьте гипотезу о том, что выручка от пользователей с подпиской выше, чем выручка от пользователей без подписки.\n",
    "\n",
    "Сформулируем нулевую и альтернативную гипотезы:\n",
    "\n",
    "- Нулевая гипотеза (Н0): Средняя месячная выручка у пользователей с подпиской и без подписки одинаковая.\n",
    "- Альтернативная гипотеза (Н1): Средняя месячная выручка у пользователей с подпиской выше, чем у пользователей без подписки.\n",
    "\n",
    "Чтобы проверить эту гипотезу:\n",
    "1. Используйте агрегированные данные из датафрейма `df_agg`, подготовленного на шаге 5.\n",
    "2. Используйте исходные данные о месячной выручке от каждого пользователя — `monthly_revenue`.\n",
    "3. Рассчитайте значение `p_value` для выбранной гипотезы, используя функции модуля `scipy.stats` и односторонний t-тест.\n",
    "4. В качестве результата вызовите написанную функцию `print_stattest_results(p_value, alpha)`, передав ей рассчитанное значение `p_value`.\n",
    "5. Дополнительно рассчитайте среднюю выручку для тарифов `ultra` и `free`, округлив её до целого стандартной функцией `round()`."
   ]
  },
  {
   "cell_type": "code",
   "execution_count": 32,
   "metadata": {
    "deletable": false,
    "id": "Gvfo6GlvSrHl"
   },
   "outputs": [
    {
     "name": "stdout",
     "output_type": "stream",
     "text": [
      "Полученное значение p_value=1.7274069878387966e-37 меньше критического уровня alpha=0.05. Принимаем альтернативную гипотезу.\n",
      "Средняя выручка подписчиков Ultra 359 руб\n",
      "Средняя выручка подписчиков Free 322 руб\n"
     ]
    }
   ],
   "source": [
    "revenue_ultra = df_agg['monthly_revenue'][df_agg['subscription_type'] == 'ultra']\n",
    "revenue_free = df_agg['monthly_revenue'][df_agg['subscription_type'] == 'free']\n",
    "\n",
    "\n",
    "results = st.ttest_ind(revenue_ultra, revenue_free, alternative='greater') # Укажите подходящий инструмент здесь\n",
    "p_value = results.pvalue\n",
    "\n",
    "print_stattest_results(p_value)\n",
    "\n",
    "mean_revenue_ultra = int(round(df_agg['monthly_revenue'][df_agg['subscription_type'] == 'ultra'].mean(),0))\n",
    "mean_revenue_free = int(round(df_agg['monthly_revenue'][df_agg['subscription_type'] == 'free'].mean(),0))\n",
    "\n",
    "print(f'Средняя выручка подписчиков Ultra {mean_revenue_ultra} руб')\n",
    "print(f'Средняя выручка подписчиков Free {mean_revenue_free} руб')"
   ]
  },
  {
   "cell_type": "markdown",
   "metadata": {
    "deletable": false,
    "editable": false,
    "id": "C3EoEcibyzeu"
   },
   "source": [
    "---\n",
    "## Задание 7. Распределения"
   ]
  },
  {
   "cell_type": "markdown",
   "metadata": {
    "deletable": false,
    "editable": false,
    "id": "ibnzyqiCz0i2"
   },
   "source": [
    "В компании возникла идея предлагать дополнительную скидку подписчикам, совершающим длительные поездки продолжительностью более 30 минут. Вас просят оценить долю таких поездок.\n",
    "\n",
    "В одном из предыдущих заданий вы уже построили гистограмму распределения длительности поездок для выборки. Однако эти данные охватывают лишь часть пользователей всех самокатов, а вас интересуют возможные значения для всей генеральной совокупности. Учитывая, что у вас нет доступа ко всем данным о поездках, было решено смоделировать длительность поездки с помощью нормального распределения, используя в качестве параметров выборочное среднее и стандартное отклонение из доступных данных о поездках."
   ]
  },
  {
   "cell_type": "markdown",
   "metadata": {
    "deletable": false,
    "editable": false,
    "id": "C2C1nTJx5Hf_",
    "tags": [
     "start_task"
    ]
   },
   "source": [
    "### Задача 7.1 Расчёт выборочного среднего и стандартного отклонения\n",
    "\n",
    "1. Расчитайте среднюю длительность поездки и сохраните в переменную `mu`.\n",
    "2. Вычислите стандартное отклонение длительности `duration` и сохраните в переменную `sigma`. Для вычисления стандартного отклонения можно применить метод `std()` к столбцу датасета.\n",
    "3. Задайте значение переменной `target_time`, равное `30`. Эта переменная будет использоваться для последующего вычисления вероятности.\n",
    "4. Выведите текстовый вывод по шаблону. При этом округлите оба значения до одного знака после точки стандартной функцией `round()`. Сами значения переменных должны остаться неимзменными для последующих задач."
   ]
  },
  {
   "cell_type": "code",
   "execution_count": 33,
   "metadata": {
    "deletable": false,
    "id": "LNVfLHzUTkAJ"
   },
   "outputs": [
    {
     "name": "stdout",
     "output_type": "stream",
     "text": [
      "Средняя длительность поездки 18.5, стандартное отклонение 6.\n"
     ]
    }
   ],
   "source": [
    "import numpy as np\n",
    "# Вычисляем среднее значение\n",
    "mu = df_ultra['duration'].mean()\n",
    "\n",
    "# Вычисляем стандартное отклонение\n",
    "sigma = df_ultra['duration'].std()\n",
    "#sigma = np.sqrt(sigma2)\n",
    "\n",
    "# Задаём целевое время\n",
    "target_time = 30\n",
    "\n",
    "# Делаем вывод\n",
    "print(f'Средняя длительность поездки {round(mu, 1)}, стандартное отклонение {round(sigma)}.')"
   ]
  },
  {
   "cell_type": "markdown",
   "metadata": {
    "deletable": false,
    "editable": false,
    "id": "M65RN8Ic6ozL",
    "tags": [
     "start_task"
    ]
   },
   "source": [
    "### Задача 7.2 Вычисление значения функции распределения в точке (CDF)\n",
    "Если вычислить значение функции распределения в точке, это позволит узнать вероятность того, что случайная величина примет значение меньше заданного либо равное ему. Соответственно, если вы хотите ответить на вопрос о вероятности поездки более 30 минут, потребуется использовать CDF.\n",
    "\n",
    "1. Используйте функцию `norm()` из библиотеки SciPy для создания нормального распределения с параметрами `mu` и `sigma`.\n",
    "\n",
    "2. Примените метод `cdf()` к целевому времени `target_time` для получения вероятности того, что случайная величина будет меньше этого значения или равна ему. Полученное значение сохраните в переменную `prob`, округлив до трёх знаков после точки стандартной функцией `round()`.\n",
    "3. Выведите на экран текстовый ответ по шаблону."
   ]
  },
  {
   "cell_type": "code",
   "execution_count": 37,
   "metadata": {
    "deletable": false,
    "id": "l3kJCKfvUQMP"
   },
   "outputs": [
    {
     "name": "stdout",
     "output_type": "stream",
     "text": [
      "Вероятность поездки более 30 минут 0.02\n"
     ]
    }
   ],
   "source": [
    "# Вычисляем вероятность того, что случайная величина будет меньше указанного значения или равна ему\n",
    "\n",
    "duration_norm_dist  = st.norm(mu, sigma)\n",
    "prob = round(1 - duration_norm_dist.cdf(target_time),3) # Используем CDF для нахождения накопленной вероятности\n",
    "\n",
    "print(f'Вероятность поездки более 30 минут {prob}')"
   ]
  },
  {
   "cell_type": "markdown",
   "metadata": {
    "deletable": false,
    "editable": false,
    "id": "G6r8KA03IrNe",
    "tags": [
     "start_task"
    ]
   },
   "source": [
    "### Задача 7.3 Вероятность для интервала (CDF)\n",
    "Коллеги посчитали, что процент пользователей, для которых будет показана скидка, недостаточно большой и вряд ли поможет в увеличении лояльности клиентов. Дополнительно вас просят проверить, какой процент пользователей совершает поездки в интервале от 20 до 30 минут. Возможно, именно для них стоит провести промоакцию?\n",
    "\n",
    "Для этого:\n",
    "\n",
    "1. Создайте переменные `low` и `high`, указывающие на начало и конец интересующего временного интервала. В этом случае они равны 20 и 30 минут.\n",
    "2. Используйте кумулятивную функцию распределения (CDF) для объекта `duration_norm_dist`, чтобы вычислить вероятность достижения верхней границы (`high`) и нижней границы (`low`).\n",
    "3. Вычислите вероятность попадания в интервал, округлите до трёх знаков после точки стандартной функцией `round()` и сохраните в переменную `prob_interval`.\n",
    "4. Выведите ответ, используя шаблон."
   ]
  },
  {
   "cell_type": "code",
   "execution_count": 39,
   "metadata": {
    "deletable": false,
    "id": "aujB5fDhU15e"
   },
   "outputs": [
    {
     "name": "stdout",
     "output_type": "stream",
     "text": [
      "Вероятность того, что пользователь совершит поездку длительностью от 20 до 30 минут: 0.377\n"
     ]
    }
   ],
   "source": [
    "# Определяем границы интервала\n",
    "low = 20\n",
    "high = 30\n",
    "\n",
    " \n",
    "# Вычисляем вероятность попадания в интервал\n",
    "prob_interval = round(duration_norm_dist.cdf(high) - duration_norm_dist.cdf(low), 3)\n",
    "\n",
    "\n",
    "#prob_interval = dist.cdf(high) - dist.cdf(low)\n",
    "# Выводим результат\n",
    "print(f'Вероятность того, что пользователь совершит поездку длительностью от {low} до {high} минут: {prob_interval}')"
   ]
  },
  {
   "cell_type": "markdown",
   "metadata": {
    "deletable": false,
    "editable": false,
    "id": "HDjUsAV8VB_t",
    "tags": [
     "start_task"
    ]
   },
   "source": [
    "### Задача 7.4 Определение критической дистанции поездок (PPF)\n",
    "Длительные поездки могут негативно сказываться на сроке службы самоката. В связи с этим принято решение установить критическую дистанцию, превышение которой будет сопровождаться дополнительной платой. Для этого необходимо определить расстояние, которое превышается только в 10% поездок (90-й процентиль).\n",
    "\n",
    "Ваша задача — смоделировать распределение длительности поездок, предполагая, что оно подчиняется нормальному закону, и рассчитать критическую дистанцию, ниже которой находится 90% всех поездок.\n",
    "\n",
    "Для этого:\n",
    "1. Рассчитайте среднюю дистанцию поездки для всех пользователей из датафрейма `df` (с подпиской и без) и сохраните в переменную `mu`.\n",
    "2. Вычислите стандартное отклонение дистанции поездки `distance` и сохраните в переменную `sigma`. Для вычисления стандартного отклонения можно применить метод `std()` к столбцу датасета.\n",
    "3. Задайте значение переменной `target_prob`, равное `0.90`. Эта переменная будет использоваться для последующего вычисления критической дистанции.\n",
    "4. Создайте объект нормального распределения `distance_norm` с заданными значениями `mu` и `sigma`.\n",
    "5. Примените к созданному нормальному распределению `distance_norm` метод `ppf()` и в качестве аргумента передайте целевую вероятность `target_prob`. Полученное значение сохраните в переменную `critical_distance`.\n",
    "6. Выведите ответ, используя шаблон.\n",
    "\n"
   ]
  },
  {
   "cell_type": "code",
   "execution_count": 40,
   "metadata": {
    "deletable": false,
    "id": "uviLDRSKVkho"
   },
   "outputs": [
    {
     "name": "stdout",
     "output_type": "stream",
     "text": [
      "90.0 % поездок имеют дистанцию ниже критического значения 4501.94 М.\n"
     ]
    }
   ],
   "source": [
    "# Вычисляем среднее значение\n",
    "mu = df['distance'].mean()\n",
    "\n",
    "# Вычисляем стандартное отклонение\n",
    "sigma = df['distance'].std()\n",
    "\n",
    "# Вероятность, для которой хотим найти значение (90% случаев)\n",
    "target_prob = 0.90\n",
    "\n",
    "# Создаём объект нормального распределения\n",
    "distance_norm = st.norm(mu, sigma)\n",
    "\n",
    "# Рассчитываем критическую дистанцию для заданного процентиля поездок\n",
    "critical_distance = distance_norm.ppf(target_prob)\n",
    "\n",
    "print(f'{100 * target_prob} % поездок имеют дистанцию ниже критического значения {critical_distance:.2f} М.')"
   ]
  },
  {
   "cell_type": "markdown",
   "metadata": {
    "deletable": false,
    "editable": false,
    "id": "17NpJxLAau6M"
   },
   "source": [
    "Поздравляем! Вы продемонстрировали глубокое понимание статистических методов и мастерски справились с задачами, используя CDF и PPF. Ваш анализ помог выявить ключевые характеристики распределения данных и определить критические значения, что очень ценно для принятия эффективных бизнес-решений."
   ]
  }
 ],
 "metadata": {
  "ExecuteTimeLog": [
   {
    "duration": 398,
    "start_time": "2025-03-24T08:32:49.743Z"
   },
   {
    "duration": 180,
    "start_time": "2025-03-24T08:34:37.876Z"
   },
   {
    "duration": 19,
    "start_time": "2025-03-24T08:38:44.238Z"
   },
   {
    "duration": 68,
    "start_time": "2025-03-24T08:39:02.634Z"
   },
   {
    "duration": 12,
    "start_time": "2025-03-24T08:39:10.054Z"
   },
   {
    "duration": 13,
    "start_time": "2025-03-24T08:39:18.227Z"
   },
   {
    "duration": 5,
    "start_time": "2025-03-24T08:39:50.835Z"
   },
   {
    "duration": 3,
    "start_time": "2025-03-24T08:41:04.965Z"
   },
   {
    "duration": 9,
    "start_time": "2025-03-24T14:03:12.529Z"
   },
   {
    "duration": 351,
    "start_time": "2025-03-24T14:03:29.988Z"
   },
   {
    "duration": 160,
    "start_time": "2025-03-24T14:03:30.341Z"
   },
   {
    "duration": 23,
    "start_time": "2025-03-24T14:03:30.503Z"
   },
   {
    "duration": 5,
    "start_time": "2025-03-24T14:03:30.528Z"
   },
   {
    "duration": 67,
    "start_time": "2025-03-24T14:03:30.534Z"
   },
   {
    "duration": 0,
    "start_time": "2025-03-24T14:03:30.603Z"
   },
   {
    "duration": 0,
    "start_time": "2025-03-24T14:03:30.604Z"
   },
   {
    "duration": 0,
    "start_time": "2025-03-24T14:03:30.605Z"
   },
   {
    "duration": 0,
    "start_time": "2025-03-24T14:03:30.606Z"
   },
   {
    "duration": 0,
    "start_time": "2025-03-24T14:03:30.607Z"
   },
   {
    "duration": 0,
    "start_time": "2025-03-24T14:03:30.608Z"
   },
   {
    "duration": 0,
    "start_time": "2025-03-24T14:03:30.610Z"
   },
   {
    "duration": 0,
    "start_time": "2025-03-24T14:03:30.611Z"
   },
   {
    "duration": 0,
    "start_time": "2025-03-24T14:03:30.612Z"
   },
   {
    "duration": 0,
    "start_time": "2025-03-24T14:03:30.613Z"
   },
   {
    "duration": 0,
    "start_time": "2025-03-24T14:03:30.614Z"
   },
   {
    "duration": 0,
    "start_time": "2025-03-24T14:03:30.615Z"
   },
   {
    "duration": 0,
    "start_time": "2025-03-24T14:03:30.635Z"
   },
   {
    "duration": 0,
    "start_time": "2025-03-24T14:03:30.636Z"
   },
   {
    "duration": 90,
    "start_time": "2025-03-24T14:04:00.346Z"
   },
   {
    "duration": 5,
    "start_time": "2025-03-24T14:04:04.916Z"
   },
   {
    "duration": 9,
    "start_time": "2025-03-24T14:05:44.598Z"
   },
   {
    "duration": 7,
    "start_time": "2025-03-24T14:07:00.314Z"
   },
   {
    "duration": 49,
    "start_time": "2025-03-24T14:07:02.109Z"
   },
   {
    "duration": 5,
    "start_time": "2025-03-24T14:14:51.228Z"
   },
   {
    "duration": 8,
    "start_time": "2025-03-24T14:18:18.135Z"
   },
   {
    "duration": 7,
    "start_time": "2025-03-24T14:18:48.710Z"
   },
   {
    "duration": 7,
    "start_time": "2025-03-24T14:21:11.864Z"
   },
   {
    "duration": 5,
    "start_time": "2025-03-24T14:22:38.697Z"
   },
   {
    "duration": 15,
    "start_time": "2025-03-24T14:28:37.914Z"
   },
   {
    "duration": 15,
    "start_time": "2025-03-24T14:28:48.445Z"
   },
   {
    "duration": 15,
    "start_time": "2025-03-24T14:29:03.408Z"
   },
   {
    "duration": 18,
    "start_time": "2025-03-24T14:32:04.154Z"
   },
   {
    "duration": 417,
    "start_time": "2025-03-24T14:33:02.219Z"
   },
   {
    "duration": 159,
    "start_time": "2025-03-24T14:33:02.638Z"
   },
   {
    "duration": 23,
    "start_time": "2025-03-24T14:33:02.799Z"
   },
   {
    "duration": 3,
    "start_time": "2025-03-24T14:33:02.824Z"
   },
   {
    "duration": 129,
    "start_time": "2025-03-24T14:33:02.828Z"
   },
   {
    "duration": 38,
    "start_time": "2025-03-24T14:33:02.959Z"
   },
   {
    "duration": 11,
    "start_time": "2025-03-24T14:33:02.999Z"
   },
   {
    "duration": 7,
    "start_time": "2025-03-24T14:33:03.011Z"
   },
   {
    "duration": 18,
    "start_time": "2025-03-24T14:33:03.020Z"
   },
   {
    "duration": 82,
    "start_time": "2025-03-24T14:33:03.040Z"
   },
   {
    "duration": 0,
    "start_time": "2025-03-24T14:33:03.123Z"
   },
   {
    "duration": 0,
    "start_time": "2025-03-24T14:33:03.125Z"
   },
   {
    "duration": 0,
    "start_time": "2025-03-24T14:33:03.126Z"
   },
   {
    "duration": 0,
    "start_time": "2025-03-24T14:33:03.128Z"
   },
   {
    "duration": 0,
    "start_time": "2025-03-24T14:33:03.129Z"
   },
   {
    "duration": 0,
    "start_time": "2025-03-24T14:33:03.131Z"
   },
   {
    "duration": 0,
    "start_time": "2025-03-24T14:33:03.132Z"
   },
   {
    "duration": 0,
    "start_time": "2025-03-24T14:33:03.133Z"
   },
   {
    "duration": 0,
    "start_time": "2025-03-24T14:33:03.135Z"
   },
   {
    "duration": 0,
    "start_time": "2025-03-24T14:33:03.136Z"
   },
   {
    "duration": 0,
    "start_time": "2025-03-24T14:33:03.137Z"
   },
   {
    "duration": 0,
    "start_time": "2025-03-24T14:33:03.139Z"
   },
   {
    "duration": 0,
    "start_time": "2025-03-24T14:33:03.140Z"
   },
   {
    "duration": 11,
    "start_time": "2025-03-24T14:36:44.790Z"
   },
   {
    "duration": 21,
    "start_time": "2025-03-24T14:37:33.059Z"
   },
   {
    "duration": 15,
    "start_time": "2025-03-24T14:42:25.506Z"
   },
   {
    "duration": 94,
    "start_time": "2025-03-24T14:43:05.895Z"
   },
   {
    "duration": 25,
    "start_time": "2025-03-24T14:43:14.400Z"
   },
   {
    "duration": 23,
    "start_time": "2025-03-24T14:43:26.911Z"
   },
   {
    "duration": 23,
    "start_time": "2025-03-24T14:45:38.819Z"
   },
   {
    "duration": 6,
    "start_time": "2025-03-24T14:46:23.932Z"
   },
   {
    "duration": 7,
    "start_time": "2025-03-24T14:47:21.749Z"
   },
   {
    "duration": 7,
    "start_time": "2025-03-24T14:47:33.965Z"
   },
   {
    "duration": 8,
    "start_time": "2025-03-24T14:48:48.816Z"
   },
   {
    "duration": 443,
    "start_time": "2025-03-24T14:50:10.033Z"
   },
   {
    "duration": 3,
    "start_time": "2025-03-24T15:04:49.562Z"
   },
   {
    "duration": 6,
    "start_time": "2025-03-24T15:04:54.541Z"
   },
   {
    "duration": 6,
    "start_time": "2025-03-24T15:05:10.450Z"
   },
   {
    "duration": 9,
    "start_time": "2025-03-24T15:07:03.426Z"
   },
   {
    "duration": 76,
    "start_time": "2025-03-24T15:07:13.170Z"
   },
   {
    "duration": 10,
    "start_time": "2025-03-24T15:07:58.660Z"
   },
   {
    "duration": 8,
    "start_time": "2025-03-24T15:08:44.968Z"
   },
   {
    "duration": 8,
    "start_time": "2025-03-24T15:08:56.648Z"
   },
   {
    "duration": 6,
    "start_time": "2025-03-24T15:09:31.445Z"
   },
   {
    "duration": 6,
    "start_time": "2025-03-24T15:10:13.077Z"
   },
   {
    "duration": 6,
    "start_time": "2025-03-24T15:11:03.330Z"
   },
   {
    "duration": 16,
    "start_time": "2025-03-24T15:11:33.264Z"
   },
   {
    "duration": 6,
    "start_time": "2025-03-24T15:11:39.595Z"
   },
   {
    "duration": 5,
    "start_time": "2025-03-24T15:12:08.764Z"
   },
   {
    "duration": 0,
    "start_time": "2025-03-25T05:38:00.255Z"
   },
   {
    "duration": 0,
    "start_time": "2025-03-25T05:38:01.640Z"
   },
   {
    "duration": 0,
    "start_time": "2025-03-25T05:38:01.641Z"
   },
   {
    "duration": 0,
    "start_time": "2025-03-25T05:38:01.642Z"
   },
   {
    "duration": 0,
    "start_time": "2025-03-25T05:38:01.643Z"
   },
   {
    "duration": 0,
    "start_time": "2025-03-25T05:38:01.644Z"
   },
   {
    "duration": 0,
    "start_time": "2025-03-25T05:38:01.645Z"
   },
   {
    "duration": 0,
    "start_time": "2025-03-25T05:38:01.646Z"
   },
   {
    "duration": 0,
    "start_time": "2025-03-25T05:38:01.647Z"
   },
   {
    "duration": 0,
    "start_time": "2025-03-25T05:38:01.648Z"
   },
   {
    "duration": 0,
    "start_time": "2025-03-25T05:38:01.649Z"
   },
   {
    "duration": 0,
    "start_time": "2025-03-25T05:38:01.651Z"
   },
   {
    "duration": 0,
    "start_time": "2025-03-25T05:38:01.652Z"
   },
   {
    "duration": 0,
    "start_time": "2025-03-25T05:38:01.653Z"
   },
   {
    "duration": 0,
    "start_time": "2025-03-25T05:38:01.654Z"
   },
   {
    "duration": 0,
    "start_time": "2025-03-25T05:38:01.655Z"
   },
   {
    "duration": 0,
    "start_time": "2025-03-25T05:38:01.656Z"
   },
   {
    "duration": 1,
    "start_time": "2025-03-25T05:38:01.656Z"
   },
   {
    "duration": 0,
    "start_time": "2025-03-25T05:38:01.658Z"
   },
   {
    "duration": 0,
    "start_time": "2025-03-25T05:38:01.659Z"
   },
   {
    "duration": 0,
    "start_time": "2025-03-25T05:38:01.660Z"
   },
   {
    "duration": 0,
    "start_time": "2025-03-25T05:38:01.661Z"
   },
   {
    "duration": 0,
    "start_time": "2025-03-25T05:38:01.662Z"
   },
   {
    "duration": 0,
    "start_time": "2025-03-25T05:38:01.663Z"
   },
   {
    "duration": 0,
    "start_time": "2025-03-25T05:38:01.664Z"
   },
   {
    "duration": 0,
    "start_time": "2025-03-25T05:38:01.665Z"
   },
   {
    "duration": 0,
    "start_time": "2025-03-25T05:38:01.666Z"
   },
   {
    "duration": 0,
    "start_time": "2025-03-25T05:38:01.668Z"
   },
   {
    "duration": 8,
    "start_time": "2025-03-25T05:38:33.171Z"
   },
   {
    "duration": 6,
    "start_time": "2025-03-25T05:38:39.946Z"
   },
   {
    "duration": 5,
    "start_time": "2025-03-25T05:38:44.023Z"
   },
   {
    "duration": 77,
    "start_time": "2025-03-25T05:41:38.551Z"
   },
   {
    "duration": 15,
    "start_time": "2025-03-25T05:41:46.700Z"
   },
   {
    "duration": 93,
    "start_time": "2025-03-25T05:45:04.237Z"
   },
   {
    "duration": 81,
    "start_time": "2025-03-25T05:45:37.090Z"
   },
   {
    "duration": 84,
    "start_time": "2025-03-25T05:45:54.695Z"
   },
   {
    "duration": 5,
    "start_time": "2025-03-25T05:50:17.758Z"
   },
   {
    "duration": 4,
    "start_time": "2025-03-25T05:50:27.798Z"
   },
   {
    "duration": 4,
    "start_time": "2025-03-25T05:50:36.492Z"
   },
   {
    "duration": 5,
    "start_time": "2025-03-25T05:50:50.923Z"
   },
   {
    "duration": 5,
    "start_time": "2025-03-25T05:51:12.176Z"
   },
   {
    "duration": 193,
    "start_time": "2025-03-25T05:52:28.546Z"
   },
   {
    "duration": 256,
    "start_time": "2025-03-25T05:54:39.546Z"
   },
   {
    "duration": 175,
    "start_time": "2025-03-25T05:56:05.736Z"
   },
   {
    "duration": 5,
    "start_time": "2025-03-25T06:01:39.400Z"
   },
   {
    "duration": 10,
    "start_time": "2025-03-25T06:18:47.433Z"
   },
   {
    "duration": 19,
    "start_time": "2025-03-25T06:26:26.911Z"
   },
   {
    "duration": 26,
    "start_time": "2025-03-25T06:27:54.523Z"
   },
   {
    "duration": 24,
    "start_time": "2025-03-25T06:27:58.661Z"
   },
   {
    "duration": 10,
    "start_time": "2025-03-25T06:28:33.845Z"
   },
   {
    "duration": 21,
    "start_time": "2025-03-25T06:28:48.387Z"
   },
   {
    "duration": 24,
    "start_time": "2025-03-25T06:29:16.622Z"
   },
   {
    "duration": 18,
    "start_time": "2025-03-25T06:30:34.234Z"
   },
   {
    "duration": 13,
    "start_time": "2025-03-25T06:30:57.071Z"
   },
   {
    "duration": 17,
    "start_time": "2025-03-25T06:35:52.466Z"
   },
   {
    "duration": 16,
    "start_time": "2025-03-25T06:36:14.558Z"
   },
   {
    "duration": 288,
    "start_time": "2025-03-25T06:39:28.432Z"
   },
   {
    "duration": 276,
    "start_time": "2025-03-25T06:40:20.689Z"
   },
   {
    "duration": 25,
    "start_time": "2025-03-25T06:44:29.904Z"
   },
   {
    "duration": 20,
    "start_time": "2025-03-25T07:17:40.808Z"
   },
   {
    "duration": 39,
    "start_time": "2025-03-25T07:18:31.644Z"
   },
   {
    "duration": 38,
    "start_time": "2025-03-25T07:24:47.857Z"
   },
   {
    "duration": 1368,
    "start_time": "2025-03-25T13:00:14.014Z"
   },
   {
    "duration": 1326,
    "start_time": "2025-03-25T13:00:15.515Z"
   },
   {
    "duration": 1336,
    "start_time": "2025-03-25T13:00:17.110Z"
   },
   {
    "duration": 417,
    "start_time": "2025-03-25T13:00:57.893Z"
   },
   {
    "duration": 206,
    "start_time": "2025-03-25T13:00:58.312Z"
   },
   {
    "duration": 26,
    "start_time": "2025-03-25T13:00:58.520Z"
   },
   {
    "duration": 32,
    "start_time": "2025-03-25T13:00:58.547Z"
   },
   {
    "duration": 6,
    "start_time": "2025-03-25T13:00:58.581Z"
   },
   {
    "duration": 8,
    "start_time": "2025-03-25T13:00:58.588Z"
   },
   {
    "duration": 6,
    "start_time": "2025-03-25T13:00:58.598Z"
   },
   {
    "duration": 6,
    "start_time": "2025-03-25T13:00:58.605Z"
   },
   {
    "duration": 28,
    "start_time": "2025-03-25T13:00:58.612Z"
   },
   {
    "duration": 9,
    "start_time": "2025-03-25T13:00:58.669Z"
   },
   {
    "duration": 271,
    "start_time": "2025-03-25T13:00:58.680Z"
   },
   {
    "duration": 18,
    "start_time": "2025-03-25T13:00:58.953Z"
   },
   {
    "duration": 69,
    "start_time": "2025-03-25T13:00:58.972Z"
   },
   {
    "duration": 102,
    "start_time": "2025-03-25T13:00:59.043Z"
   },
   {
    "duration": 186,
    "start_time": "2025-03-25T13:00:59.147Z"
   },
   {
    "duration": 4,
    "start_time": "2025-03-25T13:00:59.335Z"
   },
   {
    "duration": 32,
    "start_time": "2025-03-25T13:00:59.341Z"
   },
   {
    "duration": 29,
    "start_time": "2025-03-25T13:00:59.375Z"
   },
   {
    "duration": 41,
    "start_time": "2025-03-25T13:00:59.406Z"
   },
   {
    "duration": 15,
    "start_time": "2025-03-25T13:00:59.449Z"
   },
   {
    "duration": 21,
    "start_time": "2025-03-25T13:00:59.466Z"
   },
   {
    "duration": 287,
    "start_time": "2025-03-25T13:00:59.488Z"
   },
   {
    "duration": 26,
    "start_time": "2025-03-25T13:00:59.779Z"
   },
   {
    "duration": 97,
    "start_time": "2025-03-25T13:00:59.807Z"
   },
   {
    "duration": 3,
    "start_time": "2025-03-25T13:00:59.906Z"
   },
   {
    "duration": 133,
    "start_time": "2025-03-25T13:00:59.911Z"
   },
   {
    "duration": 0,
    "start_time": "2025-03-25T13:01:00.046Z"
   },
   {
    "duration": 0,
    "start_time": "2025-03-25T13:01:00.047Z"
   },
   {
    "duration": 0,
    "start_time": "2025-03-25T13:01:00.048Z"
   },
   {
    "duration": 0,
    "start_time": "2025-03-25T13:01:00.049Z"
   },
   {
    "duration": 0,
    "start_time": "2025-03-25T13:01:00.051Z"
   },
   {
    "duration": 0,
    "start_time": "2025-03-25T13:01:00.052Z"
   },
   {
    "duration": 0,
    "start_time": "2025-03-25T13:01:00.053Z"
   },
   {
    "duration": 1530,
    "start_time": "2025-03-25T13:07:21.968Z"
   },
   {
    "duration": 213,
    "start_time": "2025-03-25T13:07:32.542Z"
   },
   {
    "duration": 4,
    "start_time": "2025-03-25T13:07:34.782Z"
   },
   {
    "duration": 5,
    "start_time": "2025-03-25T13:07:46.075Z"
   },
   {
    "duration": 434,
    "start_time": "2025-03-25T13:08:07.336Z"
   },
   {
    "duration": 134,
    "start_time": "2025-03-25T13:08:07.779Z"
   },
   {
    "duration": 26,
    "start_time": "2025-03-25T13:08:07.915Z"
   },
   {
    "duration": 15,
    "start_time": "2025-03-25T13:08:07.944Z"
   },
   {
    "duration": 40,
    "start_time": "2025-03-25T13:08:07.960Z"
   },
   {
    "duration": 55,
    "start_time": "2025-03-25T13:08:08.001Z"
   },
   {
    "duration": 33,
    "start_time": "2025-03-25T13:08:08.058Z"
   },
   {
    "duration": 47,
    "start_time": "2025-03-25T13:08:08.093Z"
   },
   {
    "duration": 57,
    "start_time": "2025-03-25T13:08:08.142Z"
   },
   {
    "duration": 55,
    "start_time": "2025-03-25T13:08:08.202Z"
   },
   {
    "duration": 319,
    "start_time": "2025-03-25T13:08:08.259Z"
   },
   {
    "duration": 5,
    "start_time": "2025-03-25T13:08:08.580Z"
   },
   {
    "duration": 123,
    "start_time": "2025-03-25T13:08:08.587Z"
   },
   {
    "duration": 143,
    "start_time": "2025-03-25T13:08:08.712Z"
   },
   {
    "duration": 196,
    "start_time": "2025-03-25T13:08:08.857Z"
   },
   {
    "duration": 14,
    "start_time": "2025-03-25T13:08:09.055Z"
   },
   {
    "duration": 46,
    "start_time": "2025-03-25T13:08:09.074Z"
   },
   {
    "duration": 41,
    "start_time": "2025-03-25T13:08:09.122Z"
   },
   {
    "duration": 26,
    "start_time": "2025-03-25T13:08:09.167Z"
   },
   {
    "duration": 38,
    "start_time": "2025-03-25T13:08:09.195Z"
   },
   {
    "duration": 48,
    "start_time": "2025-03-25T13:08:09.235Z"
   },
   {
    "duration": 338,
    "start_time": "2025-03-25T13:08:09.284Z"
   },
   {
    "duration": 54,
    "start_time": "2025-03-25T13:08:09.625Z"
   },
   {
    "duration": 59,
    "start_time": "2025-03-25T13:08:09.681Z"
   },
   {
    "duration": 3,
    "start_time": "2025-03-25T13:08:09.742Z"
   },
   {
    "duration": 312,
    "start_time": "2025-03-25T13:08:09.746Z"
   },
   {
    "duration": 14,
    "start_time": "2025-03-25T13:08:10.059Z"
   },
   {
    "duration": 92,
    "start_time": "2025-03-25T13:08:10.081Z"
   },
   {
    "duration": 0,
    "start_time": "2025-03-25T13:08:10.177Z"
   },
   {
    "duration": 0,
    "start_time": "2025-03-25T13:08:10.178Z"
   },
   {
    "duration": 0,
    "start_time": "2025-03-25T13:08:10.179Z"
   },
   {
    "duration": 0,
    "start_time": "2025-03-25T13:08:10.180Z"
   },
   {
    "duration": 0,
    "start_time": "2025-03-25T13:08:10.181Z"
   },
   {
    "duration": 0,
    "start_time": "2025-03-25T13:08:10.183Z"
   },
   {
    "duration": 0,
    "start_time": "2025-03-25T13:08:10.184Z"
   },
   {
    "duration": 4,
    "start_time": "2025-03-25T13:08:22.875Z"
   },
   {
    "duration": 1476,
    "start_time": "2025-03-25T13:08:59.853Z"
   },
   {
    "duration": 1418,
    "start_time": "2025-03-25T13:09:02.048Z"
   },
   {
    "duration": 5,
    "start_time": "2025-03-25T13:09:22.900Z"
   },
   {
    "duration": 17,
    "start_time": "2025-03-25T13:10:06.658Z"
   },
   {
    "duration": 5,
    "start_time": "2025-03-25T13:10:20.692Z"
   },
   {
    "duration": 22,
    "start_time": "2025-03-25T13:10:29.256Z"
   },
   {
    "duration": 6,
    "start_time": "2025-03-25T13:10:54.688Z"
   },
   {
    "duration": 1285,
    "start_time": "2025-03-25T13:12:06.263Z"
   },
   {
    "duration": 1409,
    "start_time": "2025-03-25T13:12:08.410Z"
   },
   {
    "duration": 1525,
    "start_time": "2025-03-25T13:12:10.073Z"
   },
   {
    "duration": 1419,
    "start_time": "2025-03-25T13:12:32.454Z"
   },
   {
    "duration": 4,
    "start_time": "2025-03-25T13:13:25.329Z"
   },
   {
    "duration": 1438,
    "start_time": "2025-03-25T13:13:41.721Z"
   },
   {
    "duration": 7,
    "start_time": "2025-03-25T13:15:27.280Z"
   },
   {
    "duration": 6,
    "start_time": "2025-03-25T13:15:39.609Z"
   },
   {
    "duration": 89,
    "start_time": "2025-03-25T13:15:43.809Z"
   },
   {
    "duration": 6,
    "start_time": "2025-03-25T13:15:50.780Z"
   },
   {
    "duration": 6,
    "start_time": "2025-03-25T13:19:29.182Z"
   },
   {
    "duration": 8,
    "start_time": "2025-03-25T13:20:02.283Z"
   },
   {
    "duration": 7,
    "start_time": "2025-03-25T13:20:12.499Z"
   },
   {
    "duration": 7,
    "start_time": "2025-03-25T13:20:32.419Z"
   },
   {
    "duration": 11,
    "start_time": "2025-03-25T13:20:52.686Z"
   },
   {
    "duration": 1305,
    "start_time": "2025-03-25T13:21:31.075Z"
   },
   {
    "duration": 86,
    "start_time": "2025-03-25T13:21:54.792Z"
   },
   {
    "duration": 20,
    "start_time": "2025-03-25T13:22:00.358Z"
   },
   {
    "duration": 22,
    "start_time": "2025-03-25T13:22:40.382Z"
   },
   {
    "duration": 18,
    "start_time": "2025-03-25T13:22:45.811Z"
   },
   {
    "duration": 9,
    "start_time": "2025-03-25T13:23:20.491Z"
   },
   {
    "duration": 1568,
    "start_time": "2025-03-25T13:24:04.089Z"
   },
   {
    "duration": 47,
    "start_time": "2025-03-26T06:13:37.909Z"
   },
   {
    "duration": 6,
    "start_time": "2025-03-26T06:14:30.906Z"
   },
   {
    "duration": 6,
    "start_time": "2025-03-26T06:14:33.469Z"
   },
   {
    "duration": 373,
    "start_time": "2025-03-26T06:22:05.908Z"
   },
   {
    "duration": 138,
    "start_time": "2025-03-26T06:22:06.283Z"
   },
   {
    "duration": 17,
    "start_time": "2025-03-26T06:22:06.447Z"
   },
   {
    "duration": 3,
    "start_time": "2025-03-26T06:22:27.982Z"
   },
   {
    "duration": 131,
    "start_time": "2025-03-26T06:22:28.982Z"
   },
   {
    "duration": 19,
    "start_time": "2025-03-26T06:22:31.453Z"
   },
   {
    "duration": 4,
    "start_time": "2025-03-26T06:22:33.172Z"
   },
   {
    "duration": 5,
    "start_time": "2025-03-26T06:22:34.684Z"
   },
   {
    "duration": 7,
    "start_time": "2025-03-26T06:22:35.528Z"
   },
   {
    "duration": 5,
    "start_time": "2025-03-26T06:22:36.349Z"
   },
   {
    "duration": 6,
    "start_time": "2025-03-26T06:22:37.149Z"
   },
   {
    "duration": 23,
    "start_time": "2025-03-26T06:22:38.087Z"
   },
   {
    "duration": 8,
    "start_time": "2025-03-26T06:22:39.273Z"
   },
   {
    "duration": 404,
    "start_time": "2025-03-26T06:22:40.912Z"
   },
   {
    "duration": 8,
    "start_time": "2025-03-26T06:22:42.206Z"
   },
   {
    "duration": 5,
    "start_time": "2025-03-26T06:22:43.521Z"
   },
   {
    "duration": 92,
    "start_time": "2025-03-26T06:22:44.389Z"
   },
   {
    "duration": 157,
    "start_time": "2025-03-26T06:22:45.593Z"
   },
   {
    "duration": 4,
    "start_time": "2025-03-26T06:22:47.019Z"
   },
   {
    "duration": 7,
    "start_time": "2025-03-26T06:22:47.893Z"
   },
   {
    "duration": 18,
    "start_time": "2025-03-26T06:22:49.483Z"
   },
   {
    "duration": 18,
    "start_time": "2025-03-26T06:22:52.111Z"
   },
   {
    "duration": 12,
    "start_time": "2025-03-26T06:22:53.374Z"
   },
   {
    "duration": 11,
    "start_time": "2025-03-26T06:22:54.525Z"
   },
   {
    "duration": 248,
    "start_time": "2025-03-26T06:22:55.677Z"
   },
   {
    "duration": 24,
    "start_time": "2025-03-26T06:22:58.024Z"
   },
   {
    "duration": 111,
    "start_time": "2025-03-26T06:22:59.964Z"
   },
   {
    "duration": 3,
    "start_time": "2025-03-26T06:23:02.362Z"
   },
   {
    "duration": 195,
    "start_time": "2025-03-26T06:23:28.323Z"
   },
   {
    "duration": 8,
    "start_time": "2025-03-26T06:23:39.872Z"
   },
   {
    "duration": 10,
    "start_time": "2025-03-26T06:24:06.538Z"
   },
   {
    "duration": 7,
    "start_time": "2025-03-26T06:24:18.528Z"
   },
   {
    "duration": 8,
    "start_time": "2025-03-26T06:24:44.607Z"
   },
   {
    "duration": 7,
    "start_time": "2025-03-26T06:24:58.549Z"
   },
   {
    "duration": 7,
    "start_time": "2025-03-26T06:25:10.305Z"
   },
   {
    "duration": 9,
    "start_time": "2025-03-26T06:25:52.739Z"
   },
   {
    "duration": 12,
    "start_time": "2025-03-26T06:27:04.606Z"
   },
   {
    "duration": 11,
    "start_time": "2025-03-26T06:27:40.338Z"
   },
   {
    "duration": 11,
    "start_time": "2025-03-26T06:28:17.003Z"
   },
   {
    "duration": 15,
    "start_time": "2025-03-26T06:28:23.867Z"
   },
   {
    "duration": 1541,
    "start_time": "2025-03-26T06:29:24.947Z"
   },
   {
    "duration": 11,
    "start_time": "2025-03-26T06:29:47.971Z"
   },
   {
    "duration": 13,
    "start_time": "2025-03-26T06:30:14.379Z"
   },
   {
    "duration": 13,
    "start_time": "2025-03-26T06:31:05.051Z"
   },
   {
    "duration": 11,
    "start_time": "2025-03-26T06:36:15.069Z"
   },
   {
    "duration": 15,
    "start_time": "2025-03-26T06:55:16.764Z"
   },
   {
    "duration": 24,
    "start_time": "2025-03-26T06:56:09.228Z"
   },
   {
    "duration": 22,
    "start_time": "2025-03-26T06:57:05.082Z"
   },
   {
    "duration": 22,
    "start_time": "2025-03-26T06:57:24.343Z"
   },
   {
    "duration": 13,
    "start_time": "2025-03-26T06:57:36.412Z"
   },
   {
    "duration": 19,
    "start_time": "2025-03-26T06:57:40.068Z"
   },
   {
    "duration": 453,
    "start_time": "2025-03-26T07:06:29.040Z"
   },
   {
    "duration": 6,
    "start_time": "2025-03-26T07:11:37.143Z"
   },
   {
    "duration": 4,
    "start_time": "2025-03-26T07:13:00.732Z"
   },
   {
    "duration": 5,
    "start_time": "2025-03-26T07:13:40.018Z"
   },
   {
    "duration": 12,
    "start_time": "2025-03-26T07:45:49.088Z"
   },
   {
    "duration": 6,
    "start_time": "2025-03-26T08:00:11.244Z"
   },
   {
    "duration": 43,
    "start_time": "2025-03-26T08:03:15.542Z"
   },
   {
    "duration": 4,
    "start_time": "2025-03-26T08:03:27.960Z"
   },
   {
    "duration": 5,
    "start_time": "2025-03-26T08:03:38.852Z"
   },
   {
    "duration": 5,
    "start_time": "2025-03-26T08:03:49.741Z"
   },
   {
    "duration": 8,
    "start_time": "2025-03-26T08:05:05.977Z"
   },
   {
    "duration": 8,
    "start_time": "2025-03-26T08:05:15.172Z"
   },
   {
    "duration": 11,
    "start_time": "2025-03-26T08:14:02.263Z"
   },
   {
    "duration": 8,
    "start_time": "2025-03-26T08:26:42.488Z"
   },
   {
    "duration": 11,
    "start_time": "2025-03-26T08:27:42.847Z"
   },
   {
    "duration": 10,
    "start_time": "2025-03-26T08:28:18.649Z"
   },
   {
    "duration": 9,
    "start_time": "2025-03-26T08:34:07.527Z"
   },
   {
    "duration": 6,
    "start_time": "2025-03-26T08:34:27.867Z"
   },
   {
    "duration": 5,
    "start_time": "2025-03-26T08:35:26.019Z"
   },
   {
    "duration": 5,
    "start_time": "2025-03-26T08:35:41.545Z"
   },
   {
    "duration": 47,
    "start_time": "2025-03-26T12:29:32.985Z"
   },
   {
    "duration": 6,
    "start_time": "2025-03-26T12:29:39.498Z"
   },
   {
    "duration": 408,
    "start_time": "2025-03-26T12:29:54.231Z"
   },
   {
    "duration": 133,
    "start_time": "2025-03-26T12:29:54.640Z"
   },
   {
    "duration": 22,
    "start_time": "2025-03-26T12:29:54.775Z"
   },
   {
    "duration": 3,
    "start_time": "2025-03-26T12:29:54.798Z"
   },
   {
    "duration": 5,
    "start_time": "2025-03-26T12:29:54.803Z"
   },
   {
    "duration": 7,
    "start_time": "2025-03-26T12:29:54.809Z"
   },
   {
    "duration": 18,
    "start_time": "2025-03-26T12:29:54.817Z"
   },
   {
    "duration": 5,
    "start_time": "2025-03-26T12:29:54.837Z"
   },
   {
    "duration": 25,
    "start_time": "2025-03-26T12:29:54.843Z"
   },
   {
    "duration": 6,
    "start_time": "2025-03-26T12:29:54.870Z"
   },
   {
    "duration": 432,
    "start_time": "2025-03-26T12:29:54.878Z"
   },
   {
    "duration": 6,
    "start_time": "2025-03-26T12:29:55.312Z"
   },
   {
    "duration": 21,
    "start_time": "2025-03-26T12:29:55.319Z"
   },
   {
    "duration": 88,
    "start_time": "2025-03-26T12:29:55.342Z"
   },
   {
    "duration": 161,
    "start_time": "2025-03-26T12:29:55.434Z"
   },
   {
    "duration": 4,
    "start_time": "2025-03-26T12:29:55.596Z"
   },
   {
    "duration": 94,
    "start_time": "2025-03-26T12:29:55.602Z"
   },
   {
    "duration": 16,
    "start_time": "2025-03-26T12:29:55.698Z"
   },
   {
    "duration": 17,
    "start_time": "2025-03-26T12:29:55.715Z"
   },
   {
    "duration": 95,
    "start_time": "2025-03-26T12:29:55.733Z"
   },
   {
    "duration": 9,
    "start_time": "2025-03-26T12:29:55.829Z"
   },
   {
    "duration": 234,
    "start_time": "2025-03-26T12:29:55.840Z"
   },
   {
    "duration": 25,
    "start_time": "2025-03-26T12:29:56.076Z"
   },
   {
    "duration": 121,
    "start_time": "2025-03-26T12:29:56.102Z"
   },
   {
    "duration": 11,
    "start_time": "2025-03-26T12:29:56.224Z"
   },
   {
    "duration": 203,
    "start_time": "2025-03-26T12:29:56.237Z"
   },
   {
    "duration": 14,
    "start_time": "2025-03-26T12:29:56.441Z"
   },
   {
    "duration": 382,
    "start_time": "2025-03-26T12:29:56.458Z"
   },
   {
    "duration": 6,
    "start_time": "2025-03-26T12:29:56.841Z"
   },
   {
    "duration": 6,
    "start_time": "2025-03-26T12:29:56.848Z"
   },
   {
    "duration": 4,
    "start_time": "2025-03-26T12:29:56.856Z"
   },
   {
    "duration": 12,
    "start_time": "2025-03-26T12:29:56.861Z"
   },
   {
    "duration": 3,
    "start_time": "2025-03-26T12:29:56.875Z"
   },
   {
    "duration": 4,
    "start_time": "2025-03-26T12:29:56.880Z"
   },
   {
    "duration": 92,
    "start_time": "2025-03-26T12:29:56.886Z"
   },
   {
    "duration": 0,
    "start_time": "2025-03-26T12:29:56.980Z"
   },
   {
    "duration": 86,
    "start_time": "2025-03-26T12:31:12.355Z"
   },
   {
    "duration": 5,
    "start_time": "2025-03-26T12:31:26.591Z"
   },
   {
    "duration": 94,
    "start_time": "2025-03-26T12:42:11.130Z"
   },
   {
    "duration": 4,
    "start_time": "2025-03-26T12:42:22.994Z"
   },
   {
    "duration": 6,
    "start_time": "2025-03-26T12:46:01.559Z"
   }
  ],
  "colab": {
   "provenance": [],
   "toc_visible": true
  },
  "kernelspec": {
   "display_name": "Python 3 (ipykernel)",
   "language": "python",
   "name": "python3"
  },
  "language_info": {
   "codemirror_mode": {
    "name": "ipython",
    "version": 3
   },
   "file_extension": ".py",
   "mimetype": "text/x-python",
   "name": "python",
   "nbconvert_exporter": "python",
   "pygments_lexer": "ipython3",
   "version": "3.9.5"
  },
  "toc": {
   "base_numbering": 1,
   "nav_menu": {},
   "number_sections": true,
   "sideBar": true,
   "skip_h1_title": true,
   "title_cell": "Table of Contents",
   "title_sidebar": "Contents",
   "toc_cell": false,
   "toc_position": {},
   "toc_section_display": true,
   "toc_window_display": false
  }
 },
 "nbformat": 4,
 "nbformat_minor": 1
}
